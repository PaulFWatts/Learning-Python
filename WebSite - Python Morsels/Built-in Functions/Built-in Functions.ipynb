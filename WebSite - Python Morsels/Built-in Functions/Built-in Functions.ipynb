{
 "cells": [
  {
   "cell_type": "markdown",
   "metadata": {},
   "source": [
    "### The 10 Commonly known Built-in Functions in Python"
   ]
  },
  {
   "cell_type": "markdown",
   "metadata": {},
   "source": [
    "#### 1. print\n",
    "[Keyword arguments](https://www.pythonmorsels.com/positional-vs-keyword-arguments/) accepted by print"
   ]
  },
  {
   "cell_type": "code",
   "execution_count": null,
   "metadata": {},
   "outputs": [],
   "source": [
    "words = [\"Welcome\", \"to\", \"Python\"]\n",
    "print(words)\n",
    "\n",
    "print(*words, sep=\"\\n\")\n"
   ]
  },
  {
   "cell_type": "markdown",
   "metadata": {},
   "source": [
    "#### 2. len\n",
    "In Python, we don't write things like `my_list.length()` or `my_string.length`; instead we say `len(my_list)` and `len(my_string)`."
   ]
  },
  {
   "cell_type": "code",
   "execution_count": null,
   "metadata": {},
   "outputs": [],
   "source": [
    "len(words)"
   ]
  },
  {
   "cell_type": "markdown",
   "metadata": {},
   "source": [
    "#### 3. str\n",
    "The `str` function is used to convert a value to a string. It's often used to convert a number to a string.\n",
    "Unlike many other programming languages, Python doesn't have [type coercion](https://www.pythonmorsels.com/type-coercion/) so you can't concatenate strings and numbers in Python"
   ]
  },
  {
   "cell_type": "code",
   "execution_count": null,
   "metadata": {},
   "outputs": [],
   "source": [
    "version = 3\n",
    "\"Python \" + version  # type: ignore"
   ]
  },
  {
   "cell_type": "code",
   "execution_count": null,
   "metadata": {},
   "outputs": [],
   "source": [
    "version = 3\n",
    "\"Python \" + str(version) #type: ignore\n"
   ]
  },
  {
   "cell_type": "markdown",
   "metadata": {},
   "source": [
    "#### 4. int\n",
    "The `int` function is used to convert a value to an integer. It's often used to convert a string to an integer.\n"
   ]
  },
  {
   "cell_type": "code",
   "execution_count": null,
   "metadata": {},
   "outputs": [],
   "source": [
    "program_name = \"Python 3\"\n",
    "version_number = program_name.split()[-1] \n",
    "int(version_number)"
   ]
  },
  {
   "cell_type": "markdown",
   "metadata": {},
   "source": [
    "You can also use `int` to truncate a floating point number to an integer:"
   ]
  },
  {
   "cell_type": "code",
   "execution_count": null,
   "metadata": {},
   "outputs": [],
   "source": [
    "from math import sqrt\n",
    "print(sqrt(28))\n",
    "int(sqrt(28))"
   ]
  },
  {
   "cell_type": "markdown",
   "metadata": {},
   "source": [
    "Note that if you need to truncate while dividing, the `//` operator is\n",
    "likely more appropriate (though this works differently with negative\n",
    "numbers): `int(3 / 2) == 3 // 2`"
   ]
  },
  {
   "cell_type": "markdown",
   "metadata": {},
   "source": [
    "#### 5. float\n",
    "The `float` function is used to convert a value to a floating point number. It's often used to convert a string to a floating point number."
   ]
  },
  {
   "cell_type": "code",
   "execution_count": null,
   "metadata": {},
   "outputs": [],
   "source": [
    "program_name = \"Python 3\"\n",
    "version_number = program_name.split()[-1]\n",
    "print(float(version_number))"
   ]
  },
  {
   "cell_type": "markdown",
   "metadata": {},
   "source": [
    "#### 6. list\n",
    "The `list` function is used to convert a value to a list. It's often used to convert a string to a list. Can also make a list out of some other [iterable](https://www.pythonmorsels.com/iterable/)"
   ]
  },
  {
   "cell_type": "code",
   "execution_count": null,
   "metadata": {},
   "outputs": [],
   "source": [
    "numbers = [2, 1, 3, 5, 8]\n",
    "squares = (n**2 for n in numbers)\n",
    "print(squares)\n",
    "print(list(squares))\n",
    "\n",
    "\n"
   ]
  },
  {
   "cell_type": "markdown",
   "metadata": {},
   "source": [
    "#### 7. tuple\n",
    "The `tuple` function is used to convert a value to a tuple. It's often used to convert a string to a tuple. Can also make a tuple out of some other [iterable](https://www.pythonmorsels.com/iterable/)"
   ]
  },
  {
   "cell_type": "code",
   "execution_count": null,
   "metadata": {},
   "outputs": [],
   "source": [
    "numbers = [2, 1, 3, 4, 7]\n",
    "print(tuple(numbers))\n"
   ]
  },
  {
   "cell_type": "markdown",
   "metadata": {},
   "source": [
    "#### 8. dict\n",
    "The `dict` function is used to convert a value to a dictionary. It's often used to convert a list of tuples to a dictionary. Can also make a dictionary out of some other [iterable](https://www.pythonmorsels.com/iterable/)"
   ]
  },
  {
   "cell_type": "code",
   "execution_count": null,
   "metadata": {},
   "outputs": [],
   "source": [
    "# Create a dictionay fom a list two item of tuples\n",
    "color_counts = [(\"red\", 5), (\"blue\", 3), (\"green\", 2)]\n",
    "colors = dict(color_counts)\n",
    "print(color_counts)\n",
    "print(colors)\n",
    "\n"
   ]
  },
  {
   "cell_type": "markdown",
   "metadata": {},
   "source": [
    "#### 9. set\n",
    "The `set` function is used to convert a value to a set. It's often used to convert a list to a set. Can also make a set out of some other [iterable](https://www.pythonmorsels.com/iterable/)"
   ]
  },
  {
   "cell_type": "code",
   "execution_count": null,
   "metadata": {},
   "outputs": [],
   "source": [
    "numbers = [1, 2, 2, 3, 5, 8]\n",
    "print(set(numbers))\n",
    "# Create an empty set\n",
    "numbers = set()\n",
    "print(numbers)\n"
   ]
  },
  {
   "cell_type": "markdown",
   "metadata": {},
   "source": [
    "#### 10. Range\n",
    "The `range` function is used to create a sequence of numbers. It's often used to iterate over a sequence of numbers in a loop."
   ]
  },
  {
   "cell_type": "code",
   "execution_count": null,
   "metadata": {},
   "outputs": [],
   "source": [
    "for n in range(0, 10): # Note: range includes the start number but not the end number\n",
    "    print(n)\n",
    "\n"
   ]
  },
  {
   "cell_type": "markdown",
   "metadata": {},
   "source": [
    "A common use case is to do an operation `n` times (which is a [list comprehension](https://www.pythonmorsels.com/)\n",
    "\n",
    "`first_five = [get_things() for _ in range(5)]`"
   ]
  },
  {
   "cell_type": "markdown",
   "metadata": {},
   "source": [
    "### The commonly overlooked Built-in Functions in Python"
   ]
  },
  {
   "cell_type": "markdown",
   "metadata": {},
   "source": [
    "#### 1. bool\n",
    "The `bool` function is used to convert a value to a boolean. It's often used to convert a string to a boolean.\n",
    "It also check the truth value of an object. For example, an empty string is False, and a non-empty string is True or the [truthiness](https://www.pythonmorsels.com/truthiness/) of an object."
   ]
  },
  {
   "cell_type": "markdown",
   "metadata": {},
   "source": [
    "For numbers, truthiness is a question of non-zeroness:"
   ]
  },
  {
   "cell_type": "code",
   "execution_count": null,
   "metadata": {},
   "outputs": [],
   "source": [
    "print(bool(5))\n",
    "print(bool(-1))\n",
    "print(bool(0))\n"
   ]
  },
  {
   "cell_type": "markdown",
   "metadata": {},
   "source": [
    "For collections, truthiness is usually a question of non-emptiness\n",
    "(whether the collection has a length greater than `0` ):"
   ]
  },
  {
   "cell_type": "code",
   "execution_count": null,
   "metadata": {},
   "outputs": [],
   "source": [
    "print(bool('hello')) # Non-empty strings are True\n",
    "print(bool('')) # Empty string is False\n",
    "print(bool(['a'])) # non-empty lists are True\n",
    "print(bool([])) # Empty lists are False\n",
    "print(bool({})) # Empty dictionaries are False\n",
    "print(bool({1: 1, 2: 2})) # Non-empty dictionary are True\n",
    "print(bool(range(5))) # Non-empty range are True\n",
    "print(bool(range(0))) # Empty range are False\n",
    "print(bool(None)) # None is False\n"
   ]
  },
  {
   "cell_type": "markdown",
   "metadata": {},
   "source": [
    "Truthiness is kind of a big deal in Python.\n",
    "Instead of asking questions about the length of a container, many\n",
    "Pythonistas ask questions about truthiness instead:"
   ]
  },
  {
   "cell_type": "code",
   "execution_count": null,
   "metadata": {},
   "outputs": [],
   "source": [
    "# Instead of doing this\n",
    "if len(numbers) == 0:\n",
    "    print(\"The numbers list is empty\")\n",
    "    \n",
    "# Many of us do this\n",
    "if not numbers:\n",
    "    print(\"The numbers list is empty\")"
   ]
  },
  {
   "cell_type": "markdown",
   "metadata": {},
   "source": [
    "#### 2. enumerate\n",
    "The `enumerate` function is used to iterate over a list and get both the index and the value at that index.\n",
    "See [Looping with Indexes](https://www.pythonmorsels.com/looping-with-indexes/) for more details."
   ]
  },
  {
   "cell_type": "code",
   "execution_count": null,
   "metadata": {},
   "outputs": [],
   "source": [
    "# Count upward, one number at at time, while looping over an iterable at the same time\n",
    "with open('hello.txt', mode ='rt') as my_file:\n",
    "    for n, line in enumerate(my_file, start=1):\n",
    "        print(f\"{n:03}\", line)"
   ]
  },
  {
   "cell_type": "code",
   "execution_count": null,
   "metadata": {},
   "outputs": [],
   "source": [
    "# Keep track of the index of items in a sequence\n",
    "def palindromix(sequence):\n",
    "    for index, item in enumerate(sequence):\n",
    "        if item != sequence[-index - 1]:\n",
    "            return False\n",
    "    return True\n",
    "\n",
    "print(palindromix(\"racecar\"))"
   ]
  },
  {
   "cell_type": "markdown",
   "metadata": {},
   "source": [
    "#### 3. zip\n",
    "The `zip` function is used to iterate over multiple lists at the same time. It is even more specialised than `enumerate`.\n",
    "See (Looping over multiple iterables)[https://www.pythonmorsels.com/looping-over-multiple-iterables/]\n",
    "If you need to use `zip` on iterables of different lengths, you can use the `itertools.zip_longest` function. See https://docs.python.org/3/library/itertools.html#itertools.zip_longest\n",
    "\n"
   ]
  },
  {
   "cell_type": "code",
   "execution_count": null,
   "metadata": {},
   "outputs": [],
   "source": [
    "one_iterable = [2, 1, 3, 4, 7, 11]\n",
    "another_iterable = ['P', 'y', 't', 'h', 'o', 'n']\n",
    "for n, letter in zip(one_iterable, another_iterable):\n",
    "    print(n, letter)\n"
   ]
  },
  {
   "cell_type": "markdown",
   "metadata": {},
   "source": [
    "#### 4. reversed\n",
    "The `reversed` function is used to iterate over a list in reverse order  and like `enumerate` and `zip` it returns an iterator."
   ]
  },
  {
   "cell_type": "code",
   "execution_count": null,
   "metadata": {},
   "outputs": [],
   "source": [
    "numbers = [2, 1, 3, 4, 7, 11]\n",
    "print(reversed(numbers))\n"
   ]
  },
  {
   "cell_type": "code",
   "execution_count": null,
   "metadata": {},
   "outputs": [],
   "source": [
    "# We can loop over this iterator (but only once)\n",
    "reversed_numbers = reversed(numbers)\n",
    "print(list(reversed_numbers))\n",
    "print(list(reversed_numbers)) # This will be empty"
   ]
  },
  {
   "cell_type": "code",
   "execution_count": null,
   "metadata": {},
   "outputs": [],
   "source": [
    "# `revesed` is a sort of looping helper function. You will see it used a lot in the `for` loop\n",
    "for n in reversed(numbers):\n",
    "    print(n)\n"
   ]
  },
  {
   "cell_type": "code",
   "execution_count": null,
   "metadata": {},
   "outputs": [],
   "source": [
    "# Other ways to reverse python lists\n",
    "\n",
    "# Slicing syntax\n",
    "for n in numbers[::-1]:\n",
    "    print(n)\n",
    "    \n",
    "# In-place reverse method\n",
    "numbers.reverse()\n",
    "for n in numbers:\n",
    "    print(n)\n",
    "\n",
    "    "
   ]
  },
  {
   "cell_type": "markdown",
   "metadata": {},
   "source": [
    "#### 5. sum\n",
    "The `sum` function is used to sum the values in a list. It's often used to sum the values in a list of numbers."
   ]
  },
  {
   "cell_type": "code",
   "execution_count": null,
   "metadata": {},
   "outputs": [],
   "source": [
    "print(sum([2, 1, 3, 4, 7, 11]))\n"
   ]
  },
  {
   "cell_type": "code",
   "execution_count": null,
   "metadata": {},
   "outputs": [],
   "source": [
    "# Helper function that do the looping and pair nicely with generator expressions\n",
    "numbers = [2, 1, 3, 4, 7, 11]\n",
    "print(sum(n**2 for n in numbers))\n"
   ]
  },
  {
   "cell_type": "markdown",
   "metadata": {},
   "source": [
    "#### 6. min and max\n",
    "The `min` and `max` functions are used to find the minimum and maximum values in a list. They're often used to find the minimum and maximum values in a list of numbers."
   ]
  },
  {
   "cell_type": "code",
   "execution_count": null,
   "metadata": {},
   "outputs": [],
   "source": [
    "numbers = [2, 1, 3, 4, 7, 11]\n",
    "print(min(numbers))\n",
    "print(max(numbers))\n"
   ]
  },
  {
   "cell_type": "markdown",
   "metadata": {},
   "source": [
    "#### 7. sorted\n",
    "The `sorted` function is used to sort a list. It's often used to sort a list of numbers.\n"
   ]
  },
  {
   "cell_type": "code",
   "execution_count": 52,
   "metadata": {},
   "outputs": [
    {
     "name": "stdout",
     "output_type": "stream",
     "text": [
      "[1, 2, 3, 4, 7, 11]\n",
      "['Python', 'Welcome', 'to']\n"
     ]
    }
   ],
   "source": [
    "numbers = [2, 1, 3, 4, 7, 11]\n",
    "words = [\"Welcome\", \"to\", \"Python\"]\n",
    "print(sorted(numbers))\n",
    "print(sorted(words))\n"
   ]
  },
  {
   "cell_type": "markdown",
   "metadata": {},
   "source": [
    "7. any and all\n",
    "The `any` and `all` functions are used to check if any or all of the values in a list are truthy. They're often used to check if any or all of the values in a list are truthy."
   ]
  },
  {
   "cell_type": "code",
   "execution_count": null,
   "metadata": {},
   "outputs": [],
   "source": [
    "def palindromix(sequence):\n",
    "    ''' Return true is the sequence is the same thing in reverse order'''\n",
    "    return all(\n",
    "        n == m\n",
    "        for n, m in zip(sequence, reversed(sequence))\n",
    "        )\n",
    "\n",
    "print(palindromix(\"racecar\"))\n",
    "print(palindromix(\"Python\"))\n",
    "\n",
    "numbers = [2, 1, 3, 4, 7, 11]\n",
    "print(all(n > 0 for n in numbers))\n",
    "print(all(n > 1 for n in numbers))\n",
    "\n",
    "numbers = [2, 1, 3, 4, 7, 11]\n",
    "print(any(n > 0 for n in numbers))\n",
    "print(any(n > 1 for n in numbers))\n",
    "\n"
   ]
  },
  {
   "cell_type": "markdown",
   "metadata": {},
   "source": [
    "### The 5 built-in functions for debugging"
   ]
  },
  {
   "cell_type": "markdown",
   "metadata": {},
   "source": [
    "#### 1. breakpoint\n",
    "The `breakpoint` function is used to set a breakpoint in your code and drop you into  [pdb]([https://pymotw.com/3/pdb/) debugger.\n",
    "\n",
    "This is a [short tutorial](https://pyvideo.org/pybay-2017/introduction-to-pdb.html) on pdb and a [longer one](https://www.youtube.com/watch?v=P0pIW5tJrRM&feature=player_embedded)"
   ]
  }
 ],
 "metadata": {
  "kernelspec": {
   "display_name": "Python 3.10.7 64-bit",
   "language": "python",
   "name": "python3"
  },
  "language_info": {
   "codemirror_mode": {
    "name": "ipython",
    "version": 3
   },
   "file_extension": ".py",
   "mimetype": "text/x-python",
   "name": "python",
   "nbconvert_exporter": "python",
   "pygments_lexer": "ipython3",
   "version": "3.10.7"
  },
  "orig_nbformat": 4,
  "vscode": {
   "interpreter": {
    "hash": "369f2c481f4da34e4445cda3fffd2e751bd1c4d706f27375911949ba6bb62e1c"
   }
  }
 },
 "nbformat": 4,
 "nbformat_minor": 2
}
