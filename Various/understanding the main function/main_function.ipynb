{
 "cells": [
  {
   "cell_type": "code",
   "execution_count": null,
   "metadata": {},
   "outputs": [],
   "source": [
    "if __name__ == '__main__':\n",
    "    print('Hello World')"
   ]
  },
  {
   "cell_type": "code",
   "execution_count": null,
   "metadata": {},
   "outputs": [],
   "source": [
    "import random\n",
    "dir(random) # Lists attributes we can retrieve from the module\n"
   ]
  },
  {
   "cell_type": "code",
   "execution_count": null,
   "metadata": {},
   "outputs": [],
   "source": [
    "random.randint(0,100) # Generates a random integer between 0 and 100"
   ]
  },
  {
   "cell_type": "code",
   "execution_count": null,
   "metadata": {},
   "outputs": [],
   "source": [
    "# _name_ is a special variable (a string) that a module uses to identify itself, both to istelf and to other modules\n",
    "\n",
    "random.__name__ # Returns the name of the module"
   ]
  },
  {
   "cell_type": "code",
   "execution_count": null,
   "metadata": {},
   "outputs": [],
   "source": [
    "import mynewmod # Imports the module\n",
    "\n",
    "mynewmod.__name__ # Returns the name of the module"
   ]
  },
  {
   "cell_type": "markdown",
   "metadata": {},
   "source": [
    "# `__name__` is a global variable inside a module\n",
    "# It's an attribute outside of the module\n",
    "\n",
    "What does `__name__` contain?\n",
    "* If the module is the main program, it contains the string `\"__main__\"`\n",
    "* If the module is imported from another module, it contains the module's name\n",
    "\n",
    "Why is this useful?\n",
    "* We can use this to check if a module is the main program or not\n",
    "* We can use this to run code only when the module is the main program\n",
    "\n",
    "Who would use this?\n",
    "* You might want to provide an interactive method of invoking your module, e.g. a front end to a library\n",
    "* You might want to run some code when the module is run as a script, but not when it's imported\n",
    "* You might want to invoke automated testing on your module\n",
    "* If you're using `multiprocessing`, you might want to run some code only in the parent process\n",
    "\n",
    "You don't have to use it, but it's a useful tool to have in your toolbox!\n",
    "\n"
   ]
  },
  {
   "cell_type": "code",
   "execution_count": null,
   "metadata": {},
   "outputs": [],
   "source": [
    "dir(mynewmod) # Lists attributes we can retrieve from the module"
   ]
  },
  {
   "cell_type": "code",
   "execution_count": null,
   "metadata": {},
   "outputs": [],
   "source": [
    "mynewmod.x # Returns the value of x\n"
   ]
  },
  {
   "cell_type": "code",
   "execution_count": null,
   "metadata": {},
   "outputs": [],
   "source": [
    "mynewmod.y # Returns the value of y"
   ]
  },
  {
   "cell_type": "markdown",
   "metadata": {},
   "source": [
    "When `mynewmod` was imported it was executed as a python program which is how the variables `x` and `y` were assigned values.\n",
    "\n",
    " Note: They are global variables and can be accessed from anywhere in the program however they are attributes of the module `mynewmod` outside of the program."
   ]
  }
 ],
 "metadata": {
  "kernelspec": {
   "display_name": "Python 3.10.7 ('.venv': venv)",
   "language": "python",
   "name": "python3"
  },
  "language_info": {
   "codemirror_mode": {
    "name": "ipython",
    "version": 3
   },
   "file_extension": ".py",
   "mimetype": "text/x-python",
   "name": "python",
   "nbconvert_exporter": "python",
   "pygments_lexer": "ipython3",
   "version": "3.10.7"
  },
  "orig_nbformat": 4,
  "vscode": {
   "interpreter": {
    "hash": "2bede623a35f99ada387f38e4f5a4a36eef701924cc91cff61da08d1c4b97495"
   }
  }
 },
 "nbformat": 4,
 "nbformat_minor": 2
}
