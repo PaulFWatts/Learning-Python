{
 "cells": [
  {
   "cell_type": "markdown",
   "id": "70f708e5",
   "metadata": {},
   "source": [
    "# Week 09: Lecture Examples\n",
    "Son N. Tran"
   ]
  },
  {
   "cell_type": "markdown",
   "id": "c5b98a46",
   "metadata": {},
   "source": [
    "### 1. Procedure Programming"
   ]
  },
  {
   "cell_type": "code",
   "execution_count": 1,
   "id": "5d53c036",
   "metadata": {},
   "outputs": [],
   "source": [
    "student_01 = {'name':'Michael', 'score': 98}\n",
    "student_02 = {'name':'Bob', 'score':81}\n",
    "\n",
    "def print_score(student):\n",
    "    print(\"%s: %d\"%(student['name'],student['score']))"
   ]
  },
  {
   "cell_type": "code",
   "execution_count": 3,
   "id": "cdb410c2",
   "metadata": {},
   "outputs": [
    {
     "name": "stdout",
     "output_type": "stream",
     "text": [
      "Michael: 98\n",
      "Bob: 81\n"
     ]
    }
   ],
   "source": [
    "print_score(student_01)\n",
    "print_score(student_02)"
   ]
  },
  {
   "cell_type": "markdown",
   "id": "c198f06d",
   "metadata": {},
   "source": [
    "### 2. Object-oriented Programming"
   ]
  },
  {
   "cell_type": "code",
   "execution_count": 4,
   "id": "98b0255d",
   "metadata": {},
   "outputs": [],
   "source": [
    "class Student(object):\n",
    "    def __init__(self,name,score):\n",
    "        self.name = name\n",
    "        self.score = score\n",
    "    def print_score(self):\n",
    "        print(\"%s: %d\"%(self.name,self.score))"
   ]
  },
  {
   "cell_type": "code",
   "execution_count": 6,
   "id": "08ebd880",
   "metadata": {},
   "outputs": [
    {
     "name": "stdout",
     "output_type": "stream",
     "text": [
      "Michael: 98\n"
     ]
    }
   ],
   "source": [
    "student_01 = Student(\"Michael\",98)\n",
    "student_01.print_score()"
   ]
  },
  {
   "cell_type": "code",
   "execution_count": 7,
   "id": "e96f837b",
   "metadata": {},
   "outputs": [
    {
     "name": "stdout",
     "output_type": "stream",
     "text": [
      "Bob: 81\n"
     ]
    }
   ],
   "source": [
    "student_02 = Student(\"Bob\",81)\n",
    "student_02.print_score()"
   ]
  },
  {
   "cell_type": "markdown",
   "id": "757bb84e",
   "metadata": {},
   "source": [
    "### 3. Simple class"
   ]
  },
  {
   "cell_type": "code",
   "execution_count": null,
   "id": "12278ef8",
   "metadata": {},
   "outputs": [],
   "source": [
    "class Pet: # class name\n",
    "    myPet = \"dog\" # class variable"
   ]
  },
  {
   "cell_type": "markdown",
   "id": "af7c4855",
   "metadata": {},
   "source": [
    "### 4. List as data structure"
   ]
  },
  {
   "cell_type": "code",
   "execution_count": 8,
   "id": "f896f60c",
   "metadata": {},
   "outputs": [
    {
     "name": "stdout",
     "output_type": "stream",
     "text": [
      "['Polly', 'Parrot', 'Fido', 'Dog']\n",
      "Polly\n",
      "Parrot\n"
     ]
    }
   ],
   "source": [
    "petList = [\"Polly\",\"Parrot\",\"Fido\",\"Dog\"]\n",
    "print(petList)\n",
    "print(petList[0])\n",
    "print(petList[1])"
   ]
  },
  {
   "cell_type": "markdown",
   "id": "e93a0b10",
   "metadata": {},
   "source": [
    "### 5. Defining a class"
   ]
  },
  {
   "cell_type": "code",
   "execution_count": null,
   "id": "f33131e4",
   "metadata": {},
   "outputs": [],
   "source": []
  },
  {
   "cell_type": "markdown",
   "id": "50b4afa8",
   "metadata": {},
   "source": [
    "### 6. Example class"
   ]
  },
  {
   "cell_type": "code",
   "execution_count": null,
   "id": "c07deb2a",
   "metadata": {},
   "outputs": [],
   "source": [
    "class ExampleClass:\n",
    "    greeting = \"\"\n",
    "    \n",
    "    def __init__(self,name=\"No Name\"):\n",
    "        self.greeting = name + \"!\"\n",
    "    \n",
    "    def sayHello(self):\n",
    "        print(\"Hello %s\"%(self.greeting))"
   ]
  },
  {
   "cell_type": "code",
   "execution_count": null,
   "id": "9c2fa5df",
   "metadata": {},
   "outputs": [],
   "source": []
  },
  {
   "cell_type": "markdown",
   "id": "c0fae39e",
   "metadata": {},
   "source": [
    "### 7. Use class in IDLE"
   ]
  },
  {
   "cell_type": "markdown",
   "id": "92a63a14",
   "metadata": {},
   "source": [
    "Create a python file, for example \"myclass.py\", to write a class (for example ExampleClass)\n",
    "\n",
    "In IDLE, use: from myclass import ExampleClass"
   ]
  },
  {
   "cell_type": "markdown",
   "id": "8038fcbb",
   "metadata": {},
   "source": [
    "### 8. Examples"
   ]
  },
  {
   "cell_type": "markdown",
   "id": "6e10116b",
   "metadata": {},
   "source": [
    "# Example 01\n",
    "class ExampleClass:\n",
    "    def doAdd(self, value1=0, value2=0):\n",
    "        mySum = value1 + value2\n",
    "\n",
    "    def printMySum(self):\n",
    "        print(\"The value of mySum is\",mySum) \n",
    "        "
   ]
  },
  {
   "cell_type": "code",
   "execution_count": 10,
   "id": "37cf8b95",
   "metadata": {},
   "outputs": [
    {
     "ename": "TypeError",
     "evalue": "ExampleClass() takes no arguments",
     "output_type": "error",
     "traceback": [
      "\u001b[0;31m---------------------------------------------------------------------------\u001b[0m",
      "\u001b[0;31mTypeError\u001b[0m                                 Traceback (most recent call last)",
      "\u001b[0;32m/var/folders/mc/kfk67fq16qs5nqjx79qsrv9cjk9t8r/T/ipykernel_61900/4257973109.py\u001b[0m in \u001b[0;36m<module>\u001b[0;34m\u001b[0m\n\u001b[0;32m----> 1\u001b[0;31m \u001b[0mexample\u001b[0m \u001b[0;34m=\u001b[0m \u001b[0mExampleClass\u001b[0m\u001b[0;34m(\u001b[0m\u001b[0mvalue1\u001b[0m\u001b[0;34m=\u001b[0m\u001b[0;36m1\u001b[0m\u001b[0;34m,\u001b[0m\u001b[0mvalue2\u001b[0m\u001b[0;34m=\u001b[0m\u001b[0;36m5\u001b[0m\u001b[0;34m)\u001b[0m\u001b[0;34m\u001b[0m\u001b[0;34m\u001b[0m\u001b[0m\n\u001b[0m\u001b[1;32m      2\u001b[0m \u001b[0mexample\u001b[0m\u001b[0;34m.\u001b[0m\u001b[0mprintMySum\u001b[0m\u001b[0;34m(\u001b[0m\u001b[0;34m)\u001b[0m\u001b[0;34m\u001b[0m\u001b[0;34m\u001b[0m\u001b[0m\n",
      "\u001b[0;31mTypeError\u001b[0m: ExampleClass() takes no arguments"
     ]
    }
   ],
   "source": [
    "example = ExampleClass(value1=1,value2=5)\n",
    "example.printMySum()"
   ]
  },
  {
   "cell_type": "markdown",
   "id": "0e6fe60f",
   "metadata": {},
   "source": [
    "What was wrong, and how to fix it?"
   ]
  },
  {
   "cell_type": "markdown",
   "id": "6516fcd2",
   "metadata": {},
   "source": [
    "### 9. Handling Error"
   ]
  },
  {
   "cell_type": "markdown",
   "id": "9db91721",
   "metadata": {},
   "source": [
    "What does the following code do?\n",
    "\n",
    "What if users mistakenly enter charaters?"
   ]
  },
  {
   "cell_type": "code",
   "execution_count": 16,
   "id": "a1cfa29f",
   "metadata": {},
   "outputs": [
    {
     "name": "stdout",
     "output_type": "stream",
     "text": [
      "Please enter a number: 0\n",
      "0\n"
     ]
    }
   ],
   "source": [
    "value = int(input(\"Please enter a number: \"))\n",
    "print(value)"
   ]
  },
  {
   "cell_type": "markdown",
   "id": "7d493a8c",
   "metadata": {},
   "source": [
    "What's about the following code?\n",
    "\n",
    "What if users enter a value 0 in the previous step?"
   ]
  },
  {
   "cell_type": "code",
   "execution_count": 17,
   "id": "8fdb1460",
   "metadata": {},
   "outputs": [
    {
     "ename": "ZeroDivisionError",
     "evalue": "division by zero",
     "output_type": "error",
     "traceback": [
      "\u001b[0;31m---------------------------------------------------------------------------\u001b[0m",
      "\u001b[0;31mZeroDivisionError\u001b[0m                         Traceback (most recent call last)",
      "\u001b[0;32m/var/folders/mc/kfk67fq16qs5nqjx79qsrv9cjk9t8r/T/ipykernel_61900/3058783627.py\u001b[0m in \u001b[0;36m<module>\u001b[0;34m\u001b[0m\n\u001b[0;32m----> 1\u001b[0;31m \u001b[0mdivision\u001b[0m \u001b[0;34m=\u001b[0m \u001b[0;36m10\u001b[0m\u001b[0;34m/\u001b[0m\u001b[0mvalue\u001b[0m\u001b[0;34m\u001b[0m\u001b[0;34m\u001b[0m\u001b[0m\n\u001b[0m\u001b[1;32m      2\u001b[0m \u001b[0mprint\u001b[0m\u001b[0;34m(\u001b[0m\u001b[0mdivision\u001b[0m\u001b[0;34m)\u001b[0m\u001b[0;34m\u001b[0m\u001b[0;34m\u001b[0m\u001b[0m\n",
      "\u001b[0;31mZeroDivisionError\u001b[0m: division by zero"
     ]
    }
   ],
   "source": [
    "division = 10/value\n",
    "print(\"The result of division is \",division)"
   ]
  },
  {
   "cell_type": "markdown",
   "id": "80bac08a",
   "metadata": {},
   "source": [
    "### Handling Error with Exception and Else"
   ]
  },
  {
   "cell_type": "code",
   "execution_count": null,
   "id": "313770ab",
   "metadata": {},
   "outputs": [],
   "source": [
    "value = int(input(\"Please enter a number: \"))\n",
    "print(value)\n",
    "\n",
    "division = 10/value\n",
    "print(\"The result of division is \",division)"
   ]
  },
  {
   "cell_type": "markdown",
   "id": "494bc6e5",
   "metadata": {},
   "source": [
    "Another example"
   ]
  },
  {
   "cell_type": "code",
   "execution_count": 19,
   "id": "96363965",
   "metadata": {},
   "outputs": [
    {
     "name": "stdout",
     "output_type": "stream",
     "text": [
      "Enter a number between 1 and 10: f\n",
      "You must enter a number!!\n",
      "Enter a number between 1 and 10: 100\n",
      "You enter incorrect value\n"
     ]
    }
   ],
   "source": [
    "valid = False\n",
    "while (not valid):\n",
    "    try:\n",
    "        value = int(input(\"Enter a number between 1 and 10: \"))\n",
    "        \n",
    "    except ValueError:\n",
    "        print(\"You must enter a number!!\")\n",
    "    else:\n",
    "        valid = True\n",
    "        if (value>0) and (value<=10):\n",
    "            print(\"You entered \", value)\n",
    "        else:\n",
    "            print(\"You enter incorrect value\")\n",
    "            "
   ]
  },
  {
   "cell_type": "code",
   "execution_count": null,
   "id": "df5f61b8",
   "metadata": {},
   "outputs": [],
   "source": []
  }
 ],
 "metadata": {
  "kernelspec": {
   "display_name": "Python 3 (ipykernel)",
   "language": "python",
   "name": "python3"
  },
  "language_info": {
   "codemirror_mode": {
    "name": "ipython",
    "version": 3
   },
   "file_extension": ".py",
   "mimetype": "text/x-python",
   "name": "python",
   "nbconvert_exporter": "python",
   "pygments_lexer": "ipython3",
   "version": "3.10.1"
  }
 },
 "nbformat": 4,
 "nbformat_minor": 5
}
