{
 "cells": [
  {
   "cell_type": "markdown",
   "id": "ca23e049",
   "metadata": {},
   "source": [
    "# Week 9 Tutorial"
   ]
  },
  {
   "cell_type": "markdown",
   "id": "98400cbc",
   "metadata": {},
   "source": [
    "### 1.List indexing"
   ]
  },
  {
   "cell_type": "code",
   "execution_count": 1,
   "id": "cdaec723",
   "metadata": {},
   "outputs": [],
   "source": [
    "mylist = [\"hello\",1.5,True]"
   ]
  },
  {
   "cell_type": "code",
   "execution_count": 2,
   "id": "780a6255",
   "metadata": {},
   "outputs": [
    {
     "name": "stdout",
     "output_type": "stream",
     "text": [
      "<class 'list'>\n"
     ]
    }
   ],
   "source": [
    "print(list)"
   ]
  },
  {
   "cell_type": "code",
   "execution_count": 3,
   "id": "1c5fb198",
   "metadata": {},
   "outputs": [
    {
     "name": "stdout",
     "output_type": "stream",
     "text": [
      "hello\n",
      "1.5\n",
      "True\n"
     ]
    }
   ],
   "source": [
    "for item in mylist:\n",
    "    print(item)"
   ]
  },
  {
   "cell_type": "code",
   "execution_count": 4,
   "id": "7954a13b",
   "metadata": {},
   "outputs": [
    {
     "name": "stdout",
     "output_type": "stream",
     "text": [
      "hello\n"
     ]
    }
   ],
   "source": [
    "first_item = mylist[0] # --> the first item (\"hello\")\n",
    "print(first_item)"
   ]
  },
  {
   "cell_type": "code",
   "execution_count": 5,
   "id": "778aa090",
   "metadata": {},
   "outputs": [
    {
     "name": "stdout",
     "output_type": "stream",
     "text": [
      "1.5\n"
     ]
    }
   ],
   "source": [
    "second_item = mylist[1] # --> the second item (1.5)\n",
    "print(second_item)"
   ]
  },
  {
   "cell_type": "markdown",
   "id": "d6fbed71",
   "metadata": {},
   "source": [
    "### 2. List functions"
   ]
  },
  {
   "cell_type": "code",
   "execution_count": 2,
   "id": "e1be6000",
   "metadata": {},
   "outputs": [],
   "source": [
    "# define a function to print all items in a list\n",
    "def show_list(alist):\n",
    "    for item in alist:\n",
    "        print(item, end= \" \")\n",
    "    print()"
   ]
  },
  {
   "cell_type": "code",
   "execution_count": 7,
   "id": "bbc37329",
   "metadata": {},
   "outputs": [
    {
     "name": "stdout",
     "output_type": "stream",
     "text": [
      "hello 1.5 True \n"
     ]
    }
   ],
   "source": [
    "#current list\n",
    "show_list(mylist)"
   ]
  },
  {
   "cell_type": "code",
   "execution_count": 9,
   "id": "69444de1",
   "metadata": {},
   "outputs": [
    {
     "name": "stdout",
     "output_type": "stream",
     "text": [
      "hello 1.5 True 5 \n"
     ]
    }
   ],
   "source": [
    "# append\n",
    "mylist.append(5)\n",
    "\n",
    "show_list(mylist)"
   ]
  },
  {
   "cell_type": "code",
   "execution_count": 10,
   "id": "a2593813",
   "metadata": {},
   "outputs": [
    {
     "name": "stdout",
     "output_type": "stream",
     "text": [
      "hello 1.5 True 5 apple mango lime \n"
     ]
    }
   ],
   "source": [
    "# extend\n",
    "anotherlist = [\"apple\",\"mango\",\"lime\"]\n",
    "mylist.extend(anotherlist)\n",
    "\n",
    "show_list(mylist)"
   ]
  },
  {
   "cell_type": "code",
   "execution_count": 11,
   "id": "33e25c45",
   "metadata": {},
   "outputs": [
    {
     "name": "stdout",
     "output_type": "stream",
     "text": [
      "hello 1.5 True 5 inserted-item apple mango lime \n"
     ]
    }
   ],
   "source": [
    "# insert: list.insert(pos, elmnt)\n",
    "mylist.insert(4,\"inserted-item\")# inserted-item will go to the position indexed 4\n",
    "\n",
    "show_list(mylist)"
   ]
  },
  {
   "cell_type": "code",
   "execution_count": 12,
   "id": "d812441f",
   "metadata": {},
   "outputs": [
    {
     "name": "stdout",
     "output_type": "stream",
     "text": [
      "hello 1.5 True 5 inserted-item mango lime \n"
     ]
    }
   ],
   "source": [
    "#remove\n",
    "mylist.remove(\"apple\")\n",
    "\n",
    "show_list(mylist)"
   ]
  },
  {
   "cell_type": "code",
   "execution_count": 14,
   "id": "df49b7d3",
   "metadata": {},
   "outputs": [
    {
     "name": "stdout",
     "output_type": "stream",
     "text": [
      "The item was removed is  5\n",
      "The list now becomes\n",
      "hello 1.5 True inserted-item mango lime \n"
     ]
    }
   ],
   "source": [
    "#pop(pos)\n",
    "removed_item = mylist.pop(3)\n",
    "\n",
    "print(\"The item was removed is \",removed_item)\n",
    "print(\"The list now becomes\")\n",
    "show_list(mylist)"
   ]
  },
  {
   "cell_type": "code",
   "execution_count": 15,
   "id": "71121840",
   "metadata": {},
   "outputs": [
    {
     "name": "stdout",
     "output_type": "stream",
     "text": [
      "The position of mango in the list is:  4\n"
     ]
    }
   ],
   "source": [
    "#index(item)\n",
    "position = mylist.index(\"mango\")\n",
    "\n",
    "print(\"The position of mango in the list is: \", position)"
   ]
  },
  {
   "cell_type": "code",
   "execution_count": 18,
   "id": "17299251",
   "metadata": {},
   "outputs": [
    {
     "name": "stdout",
     "output_type": "stream",
     "text": [
      "hello 1.5 lime True inserted-item mango lime \n"
     ]
    }
   ],
   "source": [
    "mylist.insert(2,\"lime\")\n",
    "show_list(mylist)"
   ]
  },
  {
   "cell_type": "code",
   "execution_count": 20,
   "id": "64f48fa1",
   "metadata": {},
   "outputs": [
    {
     "name": "stdout",
     "output_type": "stream",
     "text": [
      "Occurence of  mango is 1\n"
     ]
    }
   ],
   "source": [
    "#count(item)\n",
    "item = \"mango\"\n",
    "occurence = mylist.count(item)\n",
    "print(\"Occurence of \",item,\"is\",occurence)"
   ]
  },
  {
   "cell_type": "code",
   "execution_count": 22,
   "id": "76b35b85",
   "metadata": {},
   "outputs": [
    {
     "name": "stdout",
     "output_type": "stream",
     "text": [
      "0 1 2 4 5 6 36 39 \n"
     ]
    }
   ],
   "source": [
    "#sort --> NOTE THAT FOR SORTING, ALL ITEMS MUST BE COMPARABLE\n",
    "numlist = [1,5,36,4,6,39,0,2]\n",
    "numlist.sort()\n",
    "\n",
    "show_list(numlist)"
   ]
  },
  {
   "cell_type": "code",
   "execution_count": 23,
   "id": "4a382eba",
   "metadata": {},
   "outputs": [
    {
     "name": "stdout",
     "output_type": "stream",
     "text": [
      "39 36 6 5 4 2 1 0 \n"
     ]
    }
   ],
   "source": [
    "#reverse: \n",
    "numlist.reverse()\n",
    "\n",
    "show_list(numlist)"
   ]
  },
  {
   "cell_type": "code",
   "execution_count": 25,
   "id": "ea847fa4",
   "metadata": {},
   "outputs": [
    {
     "name": "stdout",
     "output_type": "stream",
     "text": [
      "hello 1.5 lime True inserted-item mango lime \n"
     ]
    }
   ],
   "source": [
    "#reverse again: THIS FUNCTION DOES NOT REQUIRE COMPARABLE ITEMS\n",
    "mylist.reverse()\n",
    "\n",
    "show_list(mylist)"
   ]
  },
  {
   "cell_type": "code",
   "execution_count": 29,
   "id": "4972d7de",
   "metadata": {},
   "outputs": [
    {
     "name": "stdout",
     "output_type": "stream",
     "text": [
      "current content of mylist\n",
      "hello 1.5 lime True inserted-item mango lime \n",
      "content of another_mylist\n",
      "hello 1.5 lime True inserted-item mango lime figs \n"
     ]
    }
   ],
   "source": [
    "# THE FUNNY THING ABOUT COPY & ASSIGNMENT\n",
    "print(\"current content of mylist\")\n",
    "show_list(mylist)\n",
    "\n",
    "# make another list, with all items from mylist\n",
    "another_mylist = mylist # This is an assignment\n",
    "# I changed the other list\n",
    "another_mylist.append(\"figs\")\n",
    "\n",
    "print(\"content of another_mylist\")\n",
    "show_list(another_mylist)"
   ]
  },
  {
   "cell_type": "code",
   "execution_count": 30,
   "id": "437dc165",
   "metadata": {},
   "outputs": [
    {
     "name": "stdout",
     "output_type": "stream",
     "text": [
      "hello 1.5 lime True inserted-item mango lime figs \n"
     ]
    }
   ],
   "source": [
    "show_list(mylist)"
   ]
  },
  {
   "cell_type": "code",
   "execution_count": 31,
   "id": "4066f253",
   "metadata": {},
   "outputs": [
    {
     "name": "stdout",
     "output_type": "stream",
     "text": [
      "items in mylist\n",
      "hello 1.5 lime True inserted-item mango lime \n",
      "items in copied_mylist\n",
      "hello 1.5 True inserted-item mango lime \n"
     ]
    }
   ],
   "source": [
    "# NOW COPY\n",
    "mylist = [\"hello\",1.5,\"lime\",True,\"inserted-item\",\"mango\",\"lime\"]\n",
    "copied_mylist = mylist.copy() # This is copying\n",
    "copied_mylist.remove(\"lime\")\n",
    "\n",
    "print(\"items in mylist\")\n",
    "show_list(mylist)\n",
    "\n",
    "print(\"items in copied_mylist\")\n",
    "show_list(copied_mylist)"
   ]
  },
  {
   "cell_type": "code",
   "execution_count": 32,
   "id": "9c7fd084",
   "metadata": {},
   "outputs": [
    {
     "name": "stdout",
     "output_type": "stream",
     "text": [
      "\n",
      "\n"
     ]
    }
   ],
   "source": [
    "#clear\n",
    "mylist.clear()\n",
    "copied_mylist.clear()\n",
    "\n",
    "show_list(mylist)\n",
    "\n",
    "show_list(copied_mylist)"
   ]
  },
  {
   "cell_type": "markdown",
   "id": "25fa8d3b",
   "metadata": {},
   "source": [
    "### 9.1 CR"
   ]
  },
  {
   "cell_type": "code",
   "execution_count": null,
   "id": "d4e16726",
   "metadata": {},
   "outputs": [],
   "source": [
    "def displayAndCountOddsAndEvens(numbers):\n",
    "    evens = []\n",
    "    odds  = []\n",
    "    # iterate through the list (numbers)\n",
    "         # with each number in the list, check if it is even (%2==0) \n",
    "                # add to the even list (evens)\n",
    "         #else (it is odd)\n",
    "                # add to the odds list\n",
    "            \n",
    "    #print the list\n",
    "    print(\"Odd numbers:\")\n",
    "    # print the numbers in the odds list\n",
    "    \n",
    "    print(\"Even numbers:\")\n",
    "    #print the numbers in the evens list\n",
    "    \n",
    "    print(\"There were %d odds and %d evens\"%(len(odds),len(evens)))"
   ]
  },
  {
   "cell_type": "code",
   "execution_count": null,
   "id": "cfa2bcbf",
   "metadata": {},
   "outputs": [],
   "source": [
    "#Example 1\n",
    "list = [1,2,3,4,5,6,7,8,9,10]\n",
    "displayAndCountOddsAndEvens(list)"
   ]
  },
  {
   "cell_type": "markdown",
   "id": "6cfe2113",
   "metadata": {},
   "source": [
    "### 9.2"
   ]
  },
  {
   "cell_type": "code",
   "execution_count": 3,
   "id": "dc6f1f23",
   "metadata": {},
   "outputs": [
    {
     "name": "stdout",
     "output_type": "stream",
     "text": [
      "30 1 2 1 0 40 \n"
     ]
    }
   ],
   "source": [
    "# We can play with the list and find the answer\n",
    "lst = [30, 1, 2, 1, 0]\n",
    "\n",
    "lst.append(40)\n",
    "\n",
    "show_list(lst) # this is for question 1a, remove it after having the answer and work for question 1b"
   ]
  },
  {
   "cell_type": "markdown",
   "id": "2d846cd9",
   "metadata": {},
   "source": [
    "### 9.3"
   ]
  },
  {
   "cell_type": "markdown",
   "id": "da92668c",
   "metadata": {},
   "source": [
    "Hint:\n",
    "\n",
    "Check error line, by line\n",
    "\n",
    "For example:\n",
    "\n",
    "Line 1: frequency = [0,0,0,0,0,0,0,0,0,0\n",
    "\n",
    "THIS IS *SYNTAX*/SEMANTIC/RUN TIME ERROR? Missing closing bracket."
   ]
  },
  {
   "cell_type": "code",
   "execution_count": null,
   "id": "d271a998",
   "metadata": {},
   "outputs": [],
   "source": []
  }
 ],
 "metadata": {
  "kernelspec": {
   "display_name": "Python 3 (ipykernel)",
   "language": "python",
   "name": "python3"
  },
  "language_info": {
   "codemirror_mode": {
    "name": "ipython",
    "version": 3
   },
   "file_extension": ".py",
   "mimetype": "text/x-python",
   "name": "python",
   "nbconvert_exporter": "python",
   "pygments_lexer": "ipython3",
   "version": "3.10.1"
  }
 },
 "nbformat": 4,
 "nbformat_minor": 5
}
