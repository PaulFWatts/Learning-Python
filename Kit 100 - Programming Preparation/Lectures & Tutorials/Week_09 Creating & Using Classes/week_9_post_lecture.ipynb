{
 "cells": [
  {
   "cell_type": "markdown",
   "id": "c10c6e1b",
   "metadata": {},
   "source": [
    "# Week 09: Lecture Examples\n",
    "Son N. Tran"
   ]
  },
  {
   "cell_type": "markdown",
   "id": "3a06a610",
   "metadata": {},
   "source": [
    "### 1. Procedure Programming"
   ]
  },
  {
   "cell_type": "markdown",
   "id": "23561578",
   "metadata": {},
   "source": [
    "What does the following code do?"
   ]
  },
  {
   "cell_type": "code",
   "execution_count": 20,
   "id": "76533c6a",
   "metadata": {},
   "outputs": [],
   "source": [
    "# This is the data\n",
    "student_01 = {'name':'Michael', 'score': 98} # this is a dictionary, holding the name, and score of a student\n",
    "student_02 = {'name':'Bob', 'score':81}\n",
    "\n",
    "#Here goes a function\n",
    "def print_score(student):\n",
    "    print(\"%s: %d\"%(student['name'],student['score']))"
   ]
  },
  {
   "cell_type": "code",
   "execution_count": 21,
   "id": "e8293f81",
   "metadata": {},
   "outputs": [
    {
     "name": "stdout",
     "output_type": "stream",
     "text": [
      "Michael: 98\n"
     ]
    }
   ],
   "source": [
    "print_score(student_01)"
   ]
  },
  {
   "cell_type": "code",
   "execution_count": 22,
   "id": "52cf5aea",
   "metadata": {},
   "outputs": [
    {
     "name": "stdout",
     "output_type": "stream",
     "text": [
      "Bob: 81\n"
     ]
    }
   ],
   "source": [
    "print_score(student_02)"
   ]
  },
  {
   "cell_type": "markdown",
   "id": "7f1b070b",
   "metadata": {},
   "source": [
    "### 2. Object-oriented Programming"
   ]
  },
  {
   "cell_type": "code",
   "execution_count": 23,
   "id": "565848c6",
   "metadata": {},
   "outputs": [],
   "source": [
    "class Student(object):\n",
    "    def __init__(self,name,score):\n",
    "        # Here is the data\n",
    "        self.name = name\n",
    "        self.score = score\n",
    "    \n",
    "    # here is function\n",
    "    def print_score(self):\n",
    "        print(\"%s: %d\"%(self.name,self.score))"
   ]
  },
  {
   "cell_type": "code",
   "execution_count": 24,
   "id": "234f2e89",
   "metadata": {},
   "outputs": [
    {
     "name": "stdout",
     "output_type": "stream",
     "text": [
      "Michael: 98\n"
     ]
    }
   ],
   "source": [
    "student_01 = Student(\"Michael\",98)\n",
    "student_01.print_score()"
   ]
  },
  {
   "cell_type": "code",
   "execution_count": 25,
   "id": "dd3f3ffe",
   "metadata": {},
   "outputs": [
    {
     "name": "stdout",
     "output_type": "stream",
     "text": [
      "Bob: 81\n"
     ]
    }
   ],
   "source": [
    "student_02 = Student(\"Bob\",81)\n",
    "student_02.print_score()"
   ]
  },
  {
   "cell_type": "markdown",
   "id": "ce4fe53e",
   "metadata": {},
   "source": [
    "#### 2.1 Example"
   ]
  },
  {
   "cell_type": "code",
   "execution_count": 33,
   "id": "ee2077d2",
   "metadata": {},
   "outputs": [],
   "source": [
    "class Car():\n",
    "    def __init__(self,yourcolor,seat_number):\n",
    "        self.color = yourcolor\n",
    "        self.number_of_seats = seat_number\n",
    "        self.class_name = \"This is car class\"\n",
    "        \n",
    "    def print(self):\n",
    "        print(self.class_name,\"Color :\", self.color,\"Number of seats \", self.number_of_seats)"
   ]
  },
  {
   "cell_type": "code",
   "execution_count": 34,
   "id": "d3cd9146",
   "metadata": {},
   "outputs": [
    {
     "name": "stdout",
     "output_type": "stream",
     "text": [
      "This is car class Color : blue Number of seats  7\n",
      "This is car class Color : red Number of seats  5\n"
     ]
    }
   ],
   "source": [
    "car1 = Car(\"blue\",7)\n",
    "car1.print()\n",
    "\n",
    "\n",
    "car2 = Car(\"red\",5)\n",
    "car2.print()"
   ]
  },
  {
   "cell_type": "markdown",
   "id": "8591e31e",
   "metadata": {},
   "source": [
    "### 3. Simple class"
   ]
  },
  {
   "cell_type": "code",
   "execution_count": null,
   "id": "5e44f88a",
   "metadata": {},
   "outputs": [],
   "source": [
    "class Pet: # class name\n",
    "    myPet = \"dog\" # class variable"
   ]
  },
  {
   "cell_type": "markdown",
   "id": "2fd37d23",
   "metadata": {},
   "source": [
    "### 4. List as data structure"
   ]
  },
  {
   "cell_type": "code",
   "execution_count": 35,
   "id": "78213e4e",
   "metadata": {},
   "outputs": [
    {
     "name": "stdout",
     "output_type": "stream",
     "text": [
      "['Polly', 'Parrot', 'Fido', 'Dog']\n",
      "Polly\n",
      "Parrot\n"
     ]
    }
   ],
   "source": [
    "petList = [\"Polly\",\"Parrot\",\"Fido\",\"Dog\"]\n",
    "print(petList)\n",
    "print(petList[0])\n",
    "print(petList[1])"
   ]
  },
  {
   "cell_type": "markdown",
   "id": "368fbdee",
   "metadata": {},
   "source": [
    "### 5. Defining a class"
   ]
  },
  {
   "cell_type": "code",
   "execution_count": 42,
   "id": "d695bc2f",
   "metadata": {},
   "outputs": [],
   "source": [
    "class Pet:\n",
    "    def __init__(self,name,species):\n",
    "        self.name = name\n",
    "        self.species = species\n",
    "    \n",
    "    def getName(self):\n",
    "        return self.name\n",
    "    \n",
    "    def getSpecies(self):\n",
    "        return self.species\n",
    "        \n",
    "    def __str__(self):\n",
    "        message = \"A pet named \" + self.name + \" is a \" + self.species\n",
    "\n",
    "        return message"
   ]
  },
  {
   "cell_type": "code",
   "execution_count": 43,
   "id": "b3b2ed70",
   "metadata": {},
   "outputs": [
    {
     "name": "stdout",
     "output_type": "stream",
     "text": [
      "A pet named A is a Polly\n"
     ]
    }
   ],
   "source": [
    "pet1 = Pet(\"A\",\"Polly\")\n",
    "pet2 = Pet(\"B\",\"Parrot\")\n",
    "pet3 = Pet(\"C\",\"Fido\")\n",
    "pet4 = Pet(\"D\",\"Dog\")\n",
    "\n",
    "#print(\"Information of pet 1\")\n",
    "#print(\"Name: \", pet1.getName(), \"Species \", pet1.getSpecies())\n",
    "\n",
    "\n",
    "print(pet1)"
   ]
  },
  {
   "cell_type": "code",
   "execution_count": null,
   "id": "80e80a85",
   "metadata": {},
   "outputs": [],
   "source": [
    "class PetHouse():\n",
    "    def __init__(self):\n",
    "        self.petList = []\n",
    "        \n",
    "    def add_pet(self,pet):\n",
    "        self.petList.append(pet)\n",
    "        \n",
    "PaulPets = PetHouse()\n",
    "PaulPets.add_pet(pet1)"
   ]
  },
  {
   "cell_type": "markdown",
   "id": "18a1c71a",
   "metadata": {},
   "source": [
    "### 6. Example class"
   ]
  },
  {
   "cell_type": "code",
   "execution_count": 44,
   "id": "2e8134d7",
   "metadata": {},
   "outputs": [],
   "source": [
    "class ExampleClass:\n",
    "    greeting = \"\"\n",
    "    \n",
    "    def __init__(self,name=\"No Name\"):\n",
    "        self.greeting = name + \"!\"\n",
    "    \n",
    "    def sayHello(self):\n",
    "        print(\"Hello %s\"%(self.greeting))"
   ]
  },
  {
   "cell_type": "code",
   "execution_count": 47,
   "id": "bb6aa5ab",
   "metadata": {},
   "outputs": [
    {
     "name": "stdout",
     "output_type": "stream",
     "text": [
      "Hello John!\n"
     ]
    }
   ],
   "source": [
    "object1 = ExampleClass(name=\"John\")\n",
    "object1.sayHello()\n"
   ]
  },
  {
   "cell_type": "markdown",
   "id": "2872d0da",
   "metadata": {},
   "source": [
    "### 7. Use class in IDLE"
   ]
  },
  {
   "cell_type": "markdown",
   "id": "bb5c3ed4",
   "metadata": {},
   "source": [
    "Create a python file, for example \"myclass.py\", to write a class (for example ExampleClass)\n",
    "\n",
    "In IDLE, use: from myclass import ExampleClass"
   ]
  },
  {
   "cell_type": "markdown",
   "id": "f9285080",
   "metadata": {},
   "source": [
    "### 8. Examples"
   ]
  },
  {
   "cell_type": "markdown",
   "id": "2b92a95c",
   "metadata": {},
   "source": [
    "# Example 01\n",
    "\n",
    "        "
   ]
  },
  {
   "cell_type": "code",
   "execution_count": 54,
   "id": "25083a8d",
   "metadata": {},
   "outputs": [],
   "source": [
    "class ExampleClass:\n",
    "    def __init__(self, value1=0, value2=0):\n",
    "        self.mySum = value1 + value2\n",
    "\n",
    "    def printMySum(self):\n",
    "        print(\"The value of mySum is\",self.mySum) "
   ]
  },
  {
   "cell_type": "code",
   "execution_count": 55,
   "id": "979dec11",
   "metadata": {},
   "outputs": [
    {
     "name": "stdout",
     "output_type": "stream",
     "text": [
      "The value of mySum is 6\n"
     ]
    }
   ],
   "source": [
    "example = ExampleClass(value1=1,value2=5)\n",
    "example.printMySum()"
   ]
  },
  {
   "cell_type": "markdown",
   "id": "3509d357",
   "metadata": {},
   "source": [
    "What was wrong, and how to fix it?"
   ]
  },
  {
   "cell_type": "markdown",
   "id": "1b425930",
   "metadata": {},
   "source": [
    "### 9. Handling Error"
   ]
  },
  {
   "cell_type": "markdown",
   "id": "b1c42d5c",
   "metadata": {},
   "source": [
    "What does the following code do?\n",
    "\n",
    "What if users mistakenly enter charaters?"
   ]
  },
  {
   "cell_type": "code",
   "execution_count": 69,
   "id": "48915303",
   "metadata": {},
   "outputs": [
    {
     "name": "stdout",
     "output_type": "stream",
     "text": [
      "Please enter a number: 4\n",
      "4\n"
     ]
    }
   ],
   "source": [
    "while True:\n",
    "    try:\n",
    "        value = int(input(\"Please enter a number: \"))\n",
    "        break\n",
    "    except ValueError:\n",
    "        print(\"You did not enter a number!\")\n",
    "\n",
    "print(value)"
   ]
  },
  {
   "cell_type": "markdown",
   "id": "8cf32702",
   "metadata": {},
   "source": [
    "What's about the following code?\n",
    "\n",
    "What if users enter a value 0 in the previous step?"
   ]
  },
  {
   "cell_type": "code",
   "execution_count": 70,
   "id": "a4a94455",
   "metadata": {},
   "outputs": [
    {
     "name": "stdout",
     "output_type": "stream",
     "text": [
      "The result of division is  2.5\n"
     ]
    }
   ],
   "source": [
    "try:\n",
    "    division = 10/value\n",
    "except ZeroDivisionError:\n",
    "    print(\"Cannot divided by zeros\")\n",
    "else:\n",
    "    print(\"The result of division is \",division)\n",
    "    "
   ]
  },
  {
   "cell_type": "markdown",
   "id": "4143b4d3",
   "metadata": {},
   "source": [
    "### Handling Error with Exception and Else"
   ]
  },
  {
   "cell_type": "code",
   "execution_count": null,
   "id": "2d96cd6c",
   "metadata": {},
   "outputs": [],
   "source": [
    "value = int(input(\"Please enter a number: \"))\n",
    "print(value)\n",
    "\n",
    "division = 10/value\n",
    "print(\"The result of division is \",division)"
   ]
  },
  {
   "cell_type": "markdown",
   "id": "6642e677",
   "metadata": {},
   "source": [
    "Another example"
   ]
  },
  {
   "cell_type": "code",
   "execution_count": null,
   "id": "2f012079",
   "metadata": {},
   "outputs": [],
   "source": [
    "valid = False\n",
    "while (not valid):\n",
    "    try:\n",
    "        value = int(input(\"Enter a number between 1 and 10: \"))\n",
    "        \n",
    "    except ValueError:\n",
    "        print(\"You must enter a number!!\")\n",
    "    else:\n",
    "        valid = True\n",
    "        if (value>0) and (value<=10):\n",
    "            print(\"You entered \", value)\n",
    "        else:\n",
    "            print(\"You enter incorrect value\")\n",
    "            "
   ]
  },
  {
   "cell_type": "code",
   "execution_count": null,
   "id": "216e56d2",
   "metadata": {},
   "outputs": [],
   "source": [
    "class Employee:\n",
    "    def __init__(self,name):\n",
    "        self.name = name\n",
    "        \n",
    "    def setName(self,name):\n",
    "        self.name = name\n",
    "    \n",
    "employee1 = Employee(<set of values>)\n",
    "        "
   ]
  }
 ],
 "metadata": {
  "kernelspec": {
   "display_name": "Python 3 (ipykernel)",
   "language": "python",
   "name": "python3"
  },
  "language_info": {
   "codemirror_mode": {
    "name": "ipython",
    "version": 3
   },
   "file_extension": ".py",
   "mimetype": "text/x-python",
   "name": "python",
   "nbconvert_exporter": "python",
   "pygments_lexer": "ipython3",
   "version": "3.10.4"
  }
 },
 "nbformat": 4,
 "nbformat_minor": 5
}
