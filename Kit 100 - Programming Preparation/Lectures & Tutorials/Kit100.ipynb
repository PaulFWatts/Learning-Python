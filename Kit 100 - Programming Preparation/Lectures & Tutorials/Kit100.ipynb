{
 "cells": [
  {
   "cell_type": "markdown",
   "metadata": {},
   "source": [
    "# Kit100 Programming Preparation\n",
    "## Semester 1 - 2022"
   ]
  },
  {
   "cell_type": "markdown",
   "metadata": {},
   "source": [
    "Python developed by Guido Rossum in 1991"
   ]
  },
  {
   "cell_type": "markdown",
   "metadata": {},
   "source": [
    "## Python Reserved Words\n",
    "https://www.w3schools.com/python/python_ref_keywords.asp"
   ]
  },
  {
   "cell_type": "markdown",
   "metadata": {},
   "source": [
    "##  2. Introductory Programming Concepts\n"
   ]
  },
  {
   "cell_type": "markdown",
   "metadata": {},
   "source": [
    "Programs require:\n",
    "* Appropriate Comments\n",
    "* Proper Indentation and Spacing"
   ]
  },
  {
   "cell_type": "code",
   "execution_count": null,
   "metadata": {},
   "outputs": [],
   "source": [
    "''' Sample program for lecture 2\n",
    "Author: Son Tran\n",
    "Version 2 (2021)\n",
    "Demonstrates simple statements and style\n",
    "'''\n",
    "print (\"Hello World\")\n",
    "print (\"Programming is fun!\")\n",
    "# this line is a comment!"
   ]
  },
  {
   "cell_type": "markdown",
   "metadata": {},
   "source": [
    "## 3. Storing and modifying data"
   ]
  },
  {
   "cell_type": "markdown",
   "metadata": {},
   "source": [
    "### The 4 Python primitive data types:\n",
    "1. Whole numbers (**int**egers) e.g. -2,0,1,32768\n",
    "2. Floating point numbers (reals or **float**s) e.g. 1.34\n",
    "3. Sequences of characters(**str**ing) e.g. \"hello\"\n",
    "4. Boolean values e.g. **True** or **False**"
   ]
  },
  {
   "cell_type": "markdown",
   "metadata": {},
   "source": [
    "#### String\n",
    "String: sequence of characters used as data, the `str` data type\n",
    "* String literal: a string that appears in actual code of a program\n",
    "* Must be enclosed in single ', double \" or triple-single ''' quotes\n",
    "* The same mark must be used at the beginning and the end of the string \n",
    "* Common to use double quotes\n",
    "* An enclosed string can contain both single and double quotes and can have multiple lines"
   ]
  },
  {
   "cell_type": "code",
   "execution_count": null,
   "metadata": {},
   "outputs": [],
   "source": [
    "print(\"I’m here!\")\n",
    "print('I am reading \"Hamlet\" tonight')\n",
    "print ('''I'm \n",
    "reading \"Hamlet\"\n",
    "tonight''')"
   ]
  },
  {
   "cell_type": "markdown",
   "metadata": {},
   "source": [
    "### Finding out the type of a variable\n",
    "* python has a special function, type(), to tell us the data type of any value."
   ]
  },
  {
   "cell_type": "code",
   "execution_count": null,
   "metadata": {},
   "outputs": [],
   "source": [
    "print(type(3))\n",
    "print(type(3.0))\n",
    "print(type(\"hello\"))\n",
    "myInt = 32\n",
    "print(type(myInt))"
   ]
  },
  {
   "cell_type": "markdown",
   "metadata": {},
   "source": [
    "### Displaying variable values\n",
    "* The str() function converts non-string values to a string form\n",
    "so they can then be combined with other strings, for example \n",
    "convert numbers to their character representation"
   ]
  },
  {
   "cell_type": "code",
   "execution_count": null,
   "metadata": {},
   "outputs": [],
   "source": [
    "numberString = str(10 + 6)\n",
    "print(numberString)"
   ]
  },
  {
   "cell_type": "code",
   "execution_count": null,
   "metadata": {},
   "outputs": [],
   "source": [
    "varA = 5 \n",
    "varB = 7 \n",
    "print (\"varA current value - \" + str(varA)) \n",
    "print (\"varB current value - \" + str(varB)) "
   ]
  },
  {
   "cell_type": "markdown",
   "metadata": {},
   "source": [
    "### Using variables\n",
    "• Once you assign a value to a variable, you have to use the variable \n",
    "consistently\n",
    "\n",
    "• But - you can simply re-define the variable ‘on the fly’, for example \n",
    "the following will not cause a confusion (because it is simply adding \n",
    "numbers):\n",
    "```python\n",
    "yVar1 = False\n",
    "myVar1 = 11\n",
    "myVar2 = 6 + myVar1\n",
    "```\n",
    "\n",
    "• Python actually allows you to assign the same value to several \n",
    "variables all at once e.g.\n",
    "* This is actually evaluated starting on the far right-hand side first "
   ]
  },
  {
   "cell_type": "code",
   "execution_count": null,
   "metadata": {},
   "outputs": [],
   "source": [
    "a = b = c = 10\n",
    "print(a + b + c)\n"
   ]
  },
  {
   "cell_type": "markdown",
   "metadata": {},
   "source": [
    "### Variable re-assignment\n",
    "* A variable can refer to an item of any type\n",
    "  * it can be assigned to one type of data and can then be re\u0002assigned to another type of data in the future e.g. int then \n",
    "float\n",
    "  * Other languages typically don’t let you do this – usually you \n",
    "declare what kind of data a variable can refer to at the start of \n",
    "your code, and it's then never allowed to change the type e.g. \n",
    "once an int, always an int\n",
    "  * Compilers use this information (in a process called type \n",
    "checking) to make sure you're not making mistakes in your \n",
    "code (for example, mistakenly assigning the wrong kind of \n",
    "data to a variable). Python doesn't do this.\n",
    "\n",
    "• We can change an existing variable's value by simply reassigning a \n",
    "value to it – simply execute another assignment statement\n",
    "\n",
    "• We need to be careful we don’t overwrite a variable that should \n",
    "have remained the same value"
   ]
  },
  {
   "cell_type": "markdown",
   "metadata": {},
   "source": [
    "#### Swapping values example 1\n"
   ]
  },
  {
   "cell_type": "code",
   "execution_count": null,
   "metadata": {},
   "outputs": [],
   "source": [
    "varA = 5 \n",
    "varB = 7 \n",
    "print (\"varA current value - \" + str(varA)) \n",
    "print (\"varB current value - \" + str(varB)) \n",
    "temp = varA\n",
    "varA = varB\n",
    "varB = temp \n",
    "print (\"varA new value - \" + str(varA))\n",
    "print (\"varB new value - \" + str(varB))\n"
   ]
  },
  {
   "cell_type": "markdown",
   "metadata": {},
   "source": [
    "#### Swapping values example 2"
   ]
  },
  {
   "cell_type": "code",
   "execution_count": null,
   "metadata": {},
   "outputs": [],
   "source": [
    "varA = 5 \n",
    "varB = 7 \n",
    "print (\"varA current value - \" + str(varA)) \n",
    "print (\"varB current value - \" + str(varB))\n",
    "varA, varB = varB, varA\n",
    "print (\"varA new value - \" + str(varA))\n",
    "print (\"varB new value - \" + str(varB))\n"
   ]
  },
  {
   "cell_type": "markdown",
   "metadata": {},
   "source": [
    "### Reading input from the Keyboard\n",
    "• The built-in input function reads input from the keyboard\n",
    "* it ALWAYS returns the data read as a string (even if the user \n",
    "types in numbers!)\n",
    "`variable = input(prompt)`"
   ]
  },
  {
   "cell_type": "code",
   "execution_count": null,
   "metadata": {},
   "outputs": [],
   "source": [
    "person = input('Enter your name: ')\n",
    "print('Hello',person,'!')"
   ]
  },
  {
   "cell_type": "markdown",
   "metadata": {},
   "source": [
    "### Input examples"
   ]
  },
  {
   "cell_type": "code",
   "execution_count": null,
   "metadata": {},
   "outputs": [],
   "source": [
    "x = int(input(\"Enter a number: \"))\n",
    "print(x)"
   ]
  },
  {
   "cell_type": "code",
   "execution_count": null,
   "metadata": {},
   "outputs": [],
   "source": [
    "x = int(input(\"Enter an integer: \"))\n",
    "y = int(input(\"Enter another integer: \"))\n",
    "sum = x + y\n",
    "print('The sum of ',x,' and ',y,' is ',sum,'.',sep='')"
   ]
  },
  {
   "cell_type": "markdown",
   "metadata": {},
   "source": [
    "### Displaying multiple items with the print function\n",
    "* Python allows one to display multiple items with a single call to \n",
    "print:\n",
    "`print(<expr>, <expr>, …, <expr>)`\n",
    "    * Items are separated by commas when passed as arguments\n",
    "    * Arguments/variables are displayed in the order they are \n",
    "passed to the function\n",
    "    * Items are automatically separated by a `space` when displayed \n",
    "on the output (you can use `+` or `sep=’’` to aviod a space)\n",
    "    * `print()` (without any arguments/variables) will print a single \n",
    "blank line."
   ]
  },
  {
   "cell_type": "markdown",
   "metadata": {},
   "source": [
    "## 4. Managing Data & Making Decisions"
   ]
  },
  {
   "cell_type": "markdown",
   "metadata": {},
   "source": [
    "* An expression is a combination of variables, operators, constants \n",
    "and functions that result in the creation of a value\n",
    "  * `1 < 2` is an expression that results in the value `True`"
   ]
  },
  {
   "cell_type": "markdown",
   "metadata": {},
   "source": [
    "### Python Operators:\n",
    "* Unary: `+,-`\n",
    "* Arithmetic: `*,/`\n",
    "* Relational: `<,>`\n",
    "* Logical: `and,or,not`\n",
    "    ```\n",
    "    x = 5\n",
    "    print(x > 3 and X < 10>)\n",
    "    True\n",
    "    ```\n",
    "* Bitwise (compare **binary** numbers): `&,|,~`\n",
    "    ```\n",
    "    a = 60      # 60 = 0011 1100;\n",
    "    b = 13      # 13 = 0000 1101;\n",
    "    c = a & b\n",
    "    print (c)\n",
    "    12          # 12 = 0000 1100\n",
    "    ```\n",
    "* Assignment: `=`\n",
    "* Membership: `in, not in`\n",
    "    ```\n",
    "    x = [\"apple\",\"banana\"]\n",
    "    print(\"banana\" in x)\n",
    "    True\n",
    "    ```\n",
    "* Identity: `is, is not`\n",
    "    ```\n",
    "    y = [\"apple\",\"banana\"]\n",
    "    print(x is y)\n",
    "    False\n",
    "    ```"
   ]
  },
  {
   "cell_type": "markdown",
   "metadata": {},
   "source": [
    "### Performing calculations\n",
    "* Math expression: performs a calculation which results in a value that can \n",
    "then be directly used or stored\n",
    "  * Arithmetic operator: performing calculation using numbers\n",
    "  * Operands: the values surrounding the operator\n",
    "    * Variables can be used as operands e.g. `2 + 3.7`\n",
    "    * Literals can be used as operands e.g. `temperature – heat`\n",
    "    * Functions (that return a value) can be used as operands:\n",
    "       * `average(1,2,3) / deviation(x)`\n",
    "    * Expressions can be operands e.g `(3 + 1) > (2 * 7)`\n",
    "    (python evaluates the expressions first before performing the \n",
    "    calculation defined by the operator)\n",
    "  * The resulting value from an expression is typically assigned to a \n",
    "    variable, or printed in the output\n"
   ]
  },
  {
   "cell_type": "markdown",
   "metadata": {},
   "source": [
    "### Arithmetic operators\n",
    "\n",
    "* `+`   Addition: Adds two values together\n",
    "* `-`   Subtraction: Subtracts the right operand from the left operand\n",
    "* `*`   Multiplication: Multiplies the left operand by the right operand\n",
    "* `/`   *Float* division: Divides the left operand by the right operand\n",
    "* `%`   Modulus: Divides the left operand by the right operand and returns the remainder\n",
    "* `**`  Exponentiation: Calcualtes the exponential value, the left operand by the right operand\n",
    "* `//`  *Integer* division: Divides the left operand by the right operand and \n",
    "        only returns a whole number value\n"
   ]
  },
  {
   "cell_type": "markdown",
   "metadata": {},
   "source": [
    "### Operator precedence\n",
    "1. Operations enclosed in *parentheses/brackets* `()`\n",
    "   1. Forces operations to be performed before others\n",
    "2. *Exponentiation* `**`\n",
    "3. *Multiplication* `*` and *division* `/`,`//` and *modulus* `%`\n",
    "4. *Addition* `+` and `subtraction `-`\n",
    "\n",
    "* Higher precendence operators are performed first\n",
    "  * The **same precedence operators**execute **from left to right**\n",
    "    * (all have equal precedence)"
   ]
  },
  {
   "cell_type": "markdown",
   "metadata": {},
   "source": [
    "## 7. Working with Strings & Lists"
   ]
  },
  {
   "cell_type": "markdown",
   "metadata": {},
   "source": [
    "## 8. Reading and Writing Files, Dictionaries"
   ]
  }
 ],
 "metadata": {
  "interpreter": {
   "hash": "916dbcbb3f70747c44a77c7bcd40155683ae19c65e1c03b4aa3499c5328201f1"
  },
  "kernelspec": {
   "display_name": "Python 3 (ipykernel)",
   "language": "python",
   "name": "python3"
  },
  "language_info": {
   "codemirror_mode": {
    "name": "ipython",
    "version": 3
   },
   "file_extension": ".py",
   "mimetype": "text/x-python",
   "name": "python",
   "nbconvert_exporter": "python",
   "pygments_lexer": "ipython3",
   "version": "3.10.0"
  }
 },
 "nbformat": 4,
 "nbformat_minor": 2
}
