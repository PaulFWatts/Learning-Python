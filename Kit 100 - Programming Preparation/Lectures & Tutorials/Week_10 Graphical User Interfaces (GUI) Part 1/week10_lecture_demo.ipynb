{
 "cells": [
  {
   "cell_type": "markdown",
   "id": "2e5fe421",
   "metadata": {},
   "source": [
    "# Week 10 Lecture Demo"
   ]
  },
  {
   "cell_type": "markdown",
   "id": "81bcda39",
   "metadata": {},
   "source": [
    "### 1. Simple GUI"
   ]
  },
  {
   "cell_type": "code",
   "execution_count": 1,
   "id": "e3c9d451",
   "metadata": {},
   "outputs": [],
   "source": [
    "from tkinter import *\n",
    "window = Tk()\n",
    "label = Label(window, text=\"Welcome to Python\")\n",
    "button = Button(window,text=\"Click me\")\n",
    "\n",
    "label.pack()\n",
    "button.pack()\n",
    "\n",
    "window.mainloop()"
   ]
  },
  {
   "cell_type": "markdown",
   "id": "526e7505",
   "metadata": {},
   "source": [
    "### 2. Event control"
   ]
  },
  {
   "cell_type": "code",
   "execution_count": 1,
   "id": "a546c88c",
   "metadata": {},
   "outputs": [],
   "source": [
    "from tkinter import *\n",
    "# add a callback funtion\n",
    "def click_me():\n",
    "    label.config(text=\"Clicked\")\n",
    "    \n",
    "window = Tk()\n",
    "label = Label(window, text=\"Welcome to Python\")\n",
    "button = Button(window,text=\"Click me\",command = click_me)# link the callback function to button trigger\n",
    "\n",
    "label.pack()\n",
    "button.pack()\n",
    "\n",
    "window.mainloop()"
   ]
  },
  {
   "cell_type": "markdown",
   "id": "47c84b76",
   "metadata": {},
   "source": [
    "### 3. Even control with arguments"
   ]
  },
  {
   "cell_type": "code",
   "execution_count": 3,
   "id": "c497f716",
   "metadata": {},
   "outputs": [],
   "source": [
    "from tkinter import *\n",
    "# add a callback funtion, but now with parameter\n",
    "def click_me(message):\n",
    "    label.config(text=message)\n",
    "    \n",
    "window = Tk()\n",
    "label = Label(window, text=\"Welcome to Python\")\n",
    "button = Button(window,text=\"Click me\",command =lambda: click_me('Hello'))# link the callback function to button trigger with argument\n",
    "\n",
    "label.pack()\n",
    "button.pack()\n",
    "\n",
    "window.mainloop()"
   ]
  },
  {
   "cell_type": "markdown",
   "id": "e126c2e9",
   "metadata": {},
   "source": [
    "### 4. Frame demo"
   ]
  },
  {
   "cell_type": "code",
   "execution_count": 2,
   "id": "d3fc638a",
   "metadata": {},
   "outputs": [],
   "source": [
    "import tkinter\n",
    "\n",
    "class MyGUI:\n",
    "    \n",
    "    def __init__(self):\n",
    "        \n",
    "        # Create the main window widget.\n",
    "        self.main_window = tkinter.Tk()\n",
    "\n",
    "        # Task:\n",
    "        # Create TWO frames,one for the \"top\" of the window, and one for the \"bottom\".\n",
    "\n",
    "        self.top_frame = tkinter.Frame(self.main_window)\n",
    "        self.bottom_frame = tkinter.Frame(self.main_window)\n",
    "\n",
    "        # Create three Label widgets for the \"top\" frame.\n",
    "\n",
    "        self.label1 = tkinter.Label(self.top_frame, text='University')\n",
    "        self.label2 = tkinter.Label(self.top_frame, text='School')\n",
    "        self.label3 = tkinter.Label(self.top_frame, text='Discipline')\n",
    "\n",
    "        # Pack the labels that are in the \"top\" frame.\n",
    "        # Use the side='top' argument to stack them one on top of the other.\n",
    "        self.label1.pack(side='top')\n",
    "        self.label2.pack(side='top')\n",
    "        self.label3.pack(side='top')\n",
    "\n",
    "        # Create three Label widgets for the \"bottom\" frame.\n",
    "        \n",
    "        self.label4 = tkinter.Label(self.bottom_frame, text='University')\n",
    "        self.label5 = tkinter.Label(self.bottom_frame, text='School')\n",
    "        self.label6 = tkinter.Label(self.bottom_frame, text='Discipline')\n",
    "        \n",
    "        # Pack the labels that are in the \"bottom\" frame.\n",
    "        # Use the side='left' argument to arrange them horizontally from the left of the frame.\n",
    "        self.label4.pack(side='left')\n",
    "        self.label5.pack(side='left')\n",
    "        self.label6.pack(side='left')\n",
    "\n",
    "        # Yes, we have to pack the frames too!\n",
    "        self.top_frame.pack()\n",
    "        self.bottom_frame.pack()\n",
    "\n",
    "        # Enter the tkinter main loop.\n",
    "        tkinter.mainloop()\n",
    "\n",
    "# Create an instance of the MyGUI class.\n",
    "myGui = MyGUI()"
   ]
  },
  {
   "cell_type": "code",
   "execution_count": null,
   "id": "c8ec644b",
   "metadata": {},
   "outputs": [],
   "source": []
  }
 ],
 "metadata": {
  "kernelspec": {
   "display_name": "Python 3 (ipykernel)",
   "language": "python",
   "name": "python3"
  },
  "language_info": {
   "codemirror_mode": {
    "name": "ipython",
    "version": 3
   },
   "file_extension": ".py",
   "mimetype": "text/x-python",
   "name": "python",
   "nbconvert_exporter": "python",
   "pygments_lexer": "ipython3",
   "version": "3.10.0"
  }
 },
 "nbformat": 4,
 "nbformat_minor": 5
}
