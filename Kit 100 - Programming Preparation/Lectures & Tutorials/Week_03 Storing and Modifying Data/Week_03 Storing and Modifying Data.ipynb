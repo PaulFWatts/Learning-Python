{
 "cells": [
  {
   "cell_type": "markdown",
   "metadata": {},
   "source": [
    "## 3. Storing and modifying data"
   ]
  },
  {
   "cell_type": "markdown",
   "metadata": {},
   "source": [
    "### The 4 Python primitive data types:\n",
    "1. Whole numbers (**int**egers) e.g. -2,0,1,32768\n",
    "2. Floating point numbers (reals or **float**s) e.g. 1.34\n",
    "3. Sequences of characters(**str**ing) e.g. \"hello\"\n",
    "4. Boolean values e.g. **True** or **False**"
   ]
  },
  {
   "cell_type": "code",
   "execution_count": 1,
   "metadata": {},
   "outputs": [
    {
     "name": "stdout",
     "output_type": "stream",
     "text": [
      "<class 'int'>\n",
      "<class 'float'>\n",
      "<class 'str'>\n",
      "<class 'bool'>\n"
     ]
    }
   ],
   "source": [
    "# Python is dynamically typed, so you don't need to declare the type of variables.\n",
    "a = 1\n",
    "print(type(a))\n",
    "b = 2.0\n",
    "print(type(b))\n",
    "c = \"Hello\"\n",
    "print(type(c))\n",
    "d = True\n",
    "print(type(d))"
   ]
  },
  {
   "cell_type": "code",
   "execution_count": null,
   "metadata": {},
   "outputs": [],
   "source": [
    "# You can specify the type of variables using casting.\n",
    "a = int(1)\n",
    "x = (int(\"1\"))\n",
    "b = float(2.0)\n",
    "y = float(\"2.0\")\n",
    "c = str(\"Hello\")\n",
    "z = str(1)\n",
    "d = bool(True)\n",
    "print(a,b,c,d)\n",
    "print(x,y,z)\n"
   ]
  },
  {
   "cell_type": "markdown",
   "metadata": {},
   "source": [
    "#### String\n",
    "String: sequence of characters used as data, the `str` data type\n",
    "* String literal: a string that appears in actual code of a program\n",
    "* Must be enclosed in single ', double \" or triple-single ''' quotes\n",
    "* The same mark must be used at the beginning and the end of the string \n",
    "* Common to use double quotes\n",
    "* An enclosed string can contain both single and double quotes and can have multiple lines"
   ]
  },
  {
   "cell_type": "code",
   "execution_count": 2,
   "metadata": {},
   "outputs": [
    {
     "name": "stdout",
     "output_type": "stream",
     "text": [
      "I’m here!\n",
      "I am reading \"Hamlet\" tonight\n",
      "I'm \n",
      "reading \"Hamlet\"\n",
      "tonight\n"
     ]
    }
   ],
   "source": [
    "print(\"I’m here!\")\n",
    "print('I am reading \"Hamlet\" tonight')\n",
    "print ('''I'm \n",
    "reading \"Hamlet\"\n",
    "tonight''')"
   ]
  },
  {
   "cell_type": "markdown",
   "metadata": {},
   "source": [
    "### Finding out the type of a variable\n",
    "* python has a special function, type(), to tell us the data type of any value."
   ]
  },
  {
   "cell_type": "code",
   "execution_count": null,
   "metadata": {},
   "outputs": [],
   "source": [
    "print(type(3))\n",
    "print(type(3.0))\n",
    "print(type(\"hello\"))\n",
    "myInt = 32\n",
    "print(type(myInt))"
   ]
  },
  {
   "cell_type": "markdown",
   "metadata": {},
   "source": [
    "### Displaying variable values\n",
    "* The str() function converts non-string values to a string form\n",
    "so they can then be combined with other strings, for example \n",
    "convert numbers to their character representation"
   ]
  },
  {
   "cell_type": "code",
   "execution_count": 3,
   "metadata": {},
   "outputs": [
    {
     "name": "stdout",
     "output_type": "stream",
     "text": [
      "16 <class 'str'>\n"
     ]
    }
   ],
   "source": [
    "numberString = str(10 + 6)\n",
    "print(numberString,type(numberString))"
   ]
  },
  {
   "cell_type": "code",
   "execution_count": null,
   "metadata": {},
   "outputs": [],
   "source": [
    "varA = 5 \n",
    "varB = 7 \n",
    "print (\"varA current value - \" + str(varA)) \n",
    "print (\"varB current value - \" + str(varB)) # Has to be a string to concatenate \n",
    "print (varB,type(varB))"
   ]
  },
  {
   "cell_type": "markdown",
   "metadata": {},
   "source": [
    "### Using variables\n",
    "• Once you assign a value to a variable, you have to use the variable \n",
    "consistently\n",
    "\n",
    "• But - you can simply re-define the variable ‘on the fly’, for example \n",
    "the following will not cause a confusion (because it is simply adding \n",
    "numbers):\n",
    "```python\n",
    "yVar1 = False\n",
    "myVar1 = 11\n",
    "myVar2 = 6 + myVar1\n",
    "```\n",
    "\n",
    "• Python actually allows you to assign the same value to several \n",
    "variables all at once e.g.\n",
    "* This is actually evaluated starting on the far right-hand side first "
   ]
  },
  {
   "cell_type": "code",
   "execution_count": null,
   "metadata": {},
   "outputs": [],
   "source": [
    "a = b = c = 10\n",
    "print(a + b + c)\n"
   ]
  },
  {
   "cell_type": "markdown",
   "metadata": {},
   "source": [
    "### Variable re-assignment\n",
    "* A variable can refer to an item of any type\n",
    "  * it can be assigned to one type of data and can then be re\u0002assigned to another type of data in the future e.g. int then \n",
    "float\n",
    "  * Other languages typically don’t let you do this – usually you \n",
    "declare what kind of data a variable can refer to at the start of \n",
    "your code, and it's then never allowed to change the type e.g. \n",
    "once an int, always an int\n",
    "  * Compilers use this information (in a process called type \n",
    "checking) to make sure you're not making mistakes in your \n",
    "code (for example, mistakenly assigning the wrong kind of \n",
    "data to a variable). Python doesn't do this.\n",
    "\n",
    "• We can change an existing variable's value by simply reassigning a \n",
    "value to it – simply execute another assignment statement\n",
    "\n",
    "• We need to be careful we don’t overwrite a variable that should \n",
    "have remained the same value"
   ]
  },
  {
   "cell_type": "markdown",
   "metadata": {},
   "source": [
    "#### Swapping values example 1\n"
   ]
  },
  {
   "cell_type": "code",
   "execution_count": null,
   "metadata": {},
   "outputs": [],
   "source": [
    "varA = 5 \n",
    "varB = 7 \n",
    "print (\"varA current value - \" + str(varA)) \n",
    "print (\"varB current value - \" + str(varB)) \n",
    "temp = varA\n",
    "varA = varB\n",
    "varB = temp \n",
    "print (\"varA new value - \" + str(varA))\n",
    "print (\"varB new value - \" + str(varB))\n"
   ]
  },
  {
   "cell_type": "markdown",
   "metadata": {},
   "source": [
    "#### Swapping values example 2"
   ]
  },
  {
   "cell_type": "code",
   "execution_count": null,
   "metadata": {},
   "outputs": [],
   "source": [
    "varA = 5 \n",
    "varB = 7 \n",
    "print (\"varA current value - \" + str(varA)) \n",
    "print (\"varB current value - \" + str(varB))\n",
    "varA, varB = varB, varA\n",
    "print (\"varA new value - \" + str(varA))\n",
    "print (\"varB new value - \" + str(varB))\n"
   ]
  },
  {
   "cell_type": "markdown",
   "metadata": {},
   "source": [
    "### Reading input from the Keyboard\n",
    "• The built-in input function reads input from the keyboard\n",
    "* it ALWAYS returns the data read as a string (even if the user \n",
    "types in numbers!)\n",
    "`variable = input(prompt)`"
   ]
  },
  {
   "cell_type": "code",
   "execution_count": 24,
   "metadata": {},
   "outputs": [
    {
     "name": "stdout",
     "output_type": "stream",
     "text": [
      "Hello Paul!\n"
     ]
    }
   ],
   "source": [
    "person = input('Enter your name: ')\n",
    "print('Hello',person+'!') # using `+` avoids the space seperator"
   ]
  },
  {
   "cell_type": "markdown",
   "metadata": {},
   "source": [
    "### Input examples"
   ]
  },
  {
   "cell_type": "code",
   "execution_count": 23,
   "metadata": {},
   "outputs": [
    {
     "name": "stdout",
     "output_type": "stream",
     "text": [
      "2 <class 'int'>\n"
     ]
    }
   ],
   "source": [
    "x = int(input(\"Enter a number: \"))\n",
    "print(x, type(x))"
   ]
  },
  {
   "cell_type": "code",
   "execution_count": null,
   "metadata": {},
   "outputs": [],
   "source": [
    "x = int(input(\"Enter an integer: \"))\n",
    "y = int(input(\"Enter another integer: \"))\n",
    "sum = x + y\n",
    "print('The sum of ',x,' and ',y,' is ',sum,'.',sep='')"
   ]
  },
  {
   "cell_type": "markdown",
   "metadata": {},
   "source": [
    "### Displaying multiple items with the print function\n",
    "* Python allows one to display multiple items with a single call to \n",
    "print:\n",
    "`print(<expr>, <expr>, …, <expr>)`\n",
    "    * Items are separated by commas when passed as arguments\n",
    "    * Arguments/variables are displayed in the order they are \n",
    "passed to the function\n",
    "    * Items are automatically separated by a `space` when displayed \n",
    "on the output (you can use `+` or `sep=’’` to aviod a space)\n",
    "    * `print()` (without any arguments/variables) will print a single \n",
    "blank line."
   ]
  }
 ],
 "metadata": {
  "interpreter": {
   "hash": "2be5faf79681da6f2a61fdfdd5405d65d042280f7fba6178067603e3a2925119"
  },
  "kernelspec": {
   "display_name": "Python 3.10.0 64-bit",
   "language": "python",
   "name": "python3"
  },
  "language_info": {
   "codemirror_mode": {
    "name": "ipython",
    "version": 3
   },
   "file_extension": ".py",
   "mimetype": "text/x-python",
   "name": "python",
   "nbconvert_exporter": "python",
   "pygments_lexer": "ipython3",
   "version": "3.10.0"
  },
  "orig_nbformat": 4
 },
 "nbformat": 4,
 "nbformat_minor": 2
}
