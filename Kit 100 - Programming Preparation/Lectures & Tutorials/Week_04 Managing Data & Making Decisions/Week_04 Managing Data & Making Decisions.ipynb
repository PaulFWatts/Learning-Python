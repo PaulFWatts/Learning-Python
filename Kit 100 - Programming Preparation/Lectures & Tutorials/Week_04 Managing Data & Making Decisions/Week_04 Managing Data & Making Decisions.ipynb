{
 "cells": [
  {
   "cell_type": "markdown",
   "metadata": {},
   "source": [
    "## 4. Managing Data & Making Decisions"
   ]
  },
  {
   "cell_type": "markdown",
   "metadata": {},
   "source": [
    "* An expression is a combination of variables, operators, constants \n",
    "and functions that result in the creation of a value\n",
    "  * `1 < 2` is an expression that results in the value `True`"
   ]
  },
  {
   "cell_type": "markdown",
   "metadata": {},
   "source": [
    "### Python Operators:\n",
    "* Unary: `+,-`\n",
    "* Arithmetic: `*,/`\n",
    "* Relational: `<,>`\n",
    "* Logical: `and,or,not`\n",
    "    ```\n",
    "    x = 5\n",
    "    print(x > 3 and X < 10>)\n",
    "    True\n",
    "    ```\n",
    "* Bitwise (compare **binary** numbers): `&,|,~`\n",
    "    ```\n",
    "    a = 60      # 60 = 0011 1100;\n",
    "    b = 13      # 13 = 0000 1101;\n",
    "    c = a & b\n",
    "    print (c)\n",
    "    12          # 12 = 0000 1100\n",
    "    ```\n",
    "* Assignment: `=`\n",
    "* Membership: `in, not in`\n",
    "    ```\n",
    "    x = [\"apple\",\"banana\"]\n",
    "    print(\"banana\" in x)\n",
    "    True\n",
    "    ```\n",
    "* Identity: `is, is not`\n",
    "    ```\n",
    "    y = [\"apple\",\"banana\"]\n",
    "    print(x is y)\n",
    "    False\n",
    "    ```"
   ]
  },
  {
   "cell_type": "markdown",
   "metadata": {},
   "source": [
    "### Performing calculations\n",
    "* Math expression: performs a calculation which results in a value that can \n",
    "then be directly used or stored\n",
    "  * Arithmetic operator: performing calculation using numbers\n",
    "  * Operands: the values surrounding the operator\n",
    "    * Variables can be used as operands e.g. `2 + 3.7`\n",
    "    * Literals can be used as operands e.g. `temperature – heat`\n",
    "    * Functions (that return a value) can be used as operands:\n",
    "       * `average(1,2,3) / deviation(x)`\n",
    "    * Expressions can be operands e.g `(3 + 1) > (2 * 7)`\n",
    "    (python evaluates the expressions first before performing the \n",
    "    calculation defined by the operator)\n",
    "  * The resulting value from an expression is typically assigned to a \n",
    "    variable, or printed in the output\n"
   ]
  },
  {
   "cell_type": "markdown",
   "metadata": {},
   "source": [
    "### Arithmetic operators\n",
    "\n",
    "* `+`   Addition: Adds two values together `5+2` Result: `7`\n",
    "* `-`   Subtraction: Subtracts the right operand from the left operand `5-2` Result: `3`\n",
    "* `*`   Multiplication: Multiplies the left operand by the right operand `5*2` Result: `10`\n",
    "* `/`   *Float* division: Divides the left operand by the right operand `5/2` Result: `2.5`\n",
    "* `%`   Modulus: Divides the left operand by the right operand and returns the remainder `5%2` Result: `1`\n",
    "* `**`  Exponentiation: Calculates the exponential value, the left operand by the right operand `5**2` Result: `25`\n",
    "* `//`  *Integer* division: Divides the left operand by the right operand and \n",
    "        only returns a whole number value `5//2` Result: `2`\n"
   ]
  },
  {
   "cell_type": "markdown",
   "metadata": {},
   "source": [
    "### Operator precedence\n",
    "**BODMAS** Brackets,Orders,Division or Multiplication, Addition or Subtraction\n",
    "1. Operations enclosed in *parentheses/brackets* `()`\n",
    "   1. Forces operations to be performed before others\n",
    "2. *Exponentiation* `**`\n",
    "3. *Multiplication* `*` and *division* `/`,`//` and *modulus* `%`\n",
    "4. *Addition* `+` and `subtraction `-`\n",
    "\n",
    "* Higher precendence operators are performed first\n",
    "  * The **same precedence operators**execute **from left to right**\n",
    "    * (all have equal precedence)"
   ]
  },
  {
   "cell_type": "markdown",
   "metadata": {},
   "source": [
    "### Built-in math functions"
   ]
  },
  {
   "cell_type": "code",
   "execution_count": null,
   "metadata": {},
   "outputs": [],
   "source": [
    "print(max(2,3,4)) # Returns a maximum number\n",
    "print(min(2,3,4)) # Returns a minimum number\n",
    "print(abs(-2)) # Returns the absolute value of a number\n",
    "print(round(2.5)) # Rounds a number to the nearest integer\n",
    "print(round(2.6)) # Rounds a number to the nearest integer\n",
    "print(pow(2,3)) # Returns the power of a number\n"
   ]
  },
  {
   "cell_type": "markdown",
   "metadata": {},
   "source": [
    "### Using the math module \n"
   ]
  },
  {
   "cell_type": "code",
   "execution_count": null,
   "metadata": {},
   "outputs": [],
   "source": [
    "import math\n",
    "\n",
    "# Some math constants\n",
    "print(math.pi)\n",
    "print (math.e) # Euler's number\n",
    "\n",
    "# Some math functions\n",
    "print(math.sqrt(4)) # Returns the square root of a number\n",
    "print(math.log(2)) # Returns the logarithm of a number\n",
    "print(math.log10(100)) # Returns the base 10 logarithm of a number\n",
    "print(math.sin(math.pi/2)) # Returns the sine of an angle\n",
    "print(math.cos(math.pi/2)) # Returns the cosine of an angle\n",
    "print(math.tan(math.pi/4)) # Returns the tangent of an angle\n",
    "print(math.asin(0.5)) # Returns the arc sine of a number\n",
    "print(math.acos(0.5)) # Returns the arc cosine of a number\n",
    "print(math.atan(0.5)) # Returns the arc tangent of a number\n",
    "print(math.atan2(0.5,0.5)) # Returns the arc tangent of a number\n",
    "print(math.degrees(math.pi/2)) # Converts radians to degrees\n",
    "print(math.radians(90)) # Converts degrees to radians\n",
    "print(math.factorial(5)) # Returns the factorial of a number\n",
    "print(math.gcd(12,16)) # Returns the greatest common divisor of two numbers\n",
    "print(math.fmod(12,16)) # Returns the remainder of the division of two numbers\n",
    "print(math.hypot(3,4)) # Returns the length of the hypotenuse of a right-angled triangle\n",
    "print(math.pow(2,3)) # Returns the power of a number\n",
    "print(math.copysign(2,3)) # Returns a number with the sign of another number\n",
    "print(math.ldexp(2,3)) # Returns a number times 2 raised to a power\n",
    "print(math.frexp(2.5)) # Returns a number and an exponent\n",
    "print(math.modf(2.5)) # Returns a fractional part and an integral part\n",
    "print(math.isnan(2)) # Returns True if the number is not a number\n",
    "print(math.isinf(2)) # Returns True if the number is infinite\n",
    "print(math.isfinite(2)) # Returns True if the number is finite\n",
    "print(math.trunc(2.5)) # Returns the integer part of a number\n",
    "print(math.floor(2.5)) # Returns the largest integer that is less than or equal to a number\n",
    "print(math.ceil(2.5)) # Returns the smallest integer that is greater than or equal to a number\n",
    "print(math.exp(2)) # Returns e raised to a power\n",
    "print(math.expm1(2)) # Returns e raised to a power minus one\n",
    "print(math.log1p(2)) # Returns the natural logarithm of 1 plus a number\n",
    "print(math.log2(2)) # Returns the base 2 logarithm of a number\n",
    "\n"
   ]
  }
 ],
 "metadata": {
  "interpreter": {
   "hash": "2be5faf79681da6f2a61fdfdd5405d65d042280f7fba6178067603e3a2925119"
  },
  "kernelspec": {
   "display_name": "Python 3.10.0 64-bit",
   "language": "python",
   "name": "python3"
  },
  "language_info": {
   "codemirror_mode": {
    "name": "ipython",
    "version": 3
   },
   "file_extension": ".py",
   "mimetype": "text/x-python",
   "name": "python",
   "nbconvert_exporter": "python",
   "pygments_lexer": "ipython3",
   "version": "3.10.0"
  },
  "orig_nbformat": 4
 },
 "nbformat": 4,
 "nbformat_minor": 2
}
