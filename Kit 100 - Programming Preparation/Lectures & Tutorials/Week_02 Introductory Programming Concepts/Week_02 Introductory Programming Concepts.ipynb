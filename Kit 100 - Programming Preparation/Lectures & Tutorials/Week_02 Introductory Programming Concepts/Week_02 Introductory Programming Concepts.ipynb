{
 "cells": [
  {
   "cell_type": "markdown",
   "metadata": {},
   "source": [
    "##  2. Introductory Programming Concepts\n"
   ]
  },
  {
   "cell_type": "markdown",
   "metadata": {},
   "source": [
    "Programs require:\n",
    "* Appropriate Comments\n",
    "* Proper Indentation and Spacing"
   ]
  },
  {
   "cell_type": "code",
   "execution_count": 1,
   "metadata": {},
   "outputs": [
    {
     "name": "stdout",
     "output_type": "stream",
     "text": [
      "Hello World\n",
      "Programming is fun!\n"
     ]
    }
   ],
   "source": [
    "''' Sample program for lecture 2\n",
    "Author: Son Tran\n",
    "Version 2 (2021)\n",
    "Demonstrates simple statements and style\n",
    "'''\n",
    "print (\"Hello World\")\n",
    "print (\"Programming is fun!\")\n",
    "# this line is a comment!"
   ]
  },
  {
   "cell_type": "code",
   "execution_count": null,
   "outputs": [],
   "source": [],
   "metadata": {
    "collapsed": false
   }
  }
 ],
 "metadata": {
  "interpreter": {
   "hash": "2be5faf79681da6f2a61fdfdd5405d65d042280f7fba6178067603e3a2925119"
  },
  "kernelspec": {
   "display_name": "Python 3.10.0 64-bit",
   "language": "python",
   "name": "python3"
  },
  "language_info": {
   "codemirror_mode": {
    "name": "ipython",
    "version": 3
   },
   "file_extension": ".py",
   "mimetype": "text/x-python",
   "name": "python",
   "nbconvert_exporter": "python",
   "pygments_lexer": "ipython3",
   "version": "3.10.0"
  },
  "orig_nbformat": 4
 },
 "nbformat": 4,
 "nbformat_minor": 2
}
