{
 "cells": [
  {
   "cell_type": "markdown",
   "id": "1d8dc1f8",
   "metadata": {},
   "source": [
    "# Week 8 Tutorial\n",
    "Dr Son Tran"
   ]
  },
  {
   "cell_type": "markdown",
   "id": "079213ce",
   "metadata": {},
   "source": [
    "Step 1: Write the sketch of getCheckSum function"
   ]
  },
  {
   "cell_type": "code",
   "execution_count": 8,
   "id": "e5d3c70d",
   "metadata": {},
   "outputs": [],
   "source": [
    "# first line of code for the function header\n",
    "def getCheckSum(barcode): #abc456 --> this is a string --> this is a list of characters \"a\",\"b\",\"c\",\"4\",\"5\",\"6\"\n",
    "    sum = 0\n",
    "    digit_count = 0\n",
    "    # How can we get each digit? --> using for to loop over the character in the string (barcode)\n",
    "    for c in barcode:\n",
    "        # each time the loop goes, it give you a character in the string\n",
    "        # we only consider when c is digit\n",
    "        if c.isdigit():\n",
    "            digit_count += 1\n",
    "            sum = sum + int(c)\n",
    "        \n",
    "    # second line of code for the return\n",
    "    return sum, digit_count"
   ]
  },
  {
   "cell_type": "markdown",
   "id": "3cfa3a47",
   "metadata": {},
   "source": [
    "Step 2: Test your function"
   ]
  },
  {
   "cell_type": "code",
   "execution_count": 11,
   "id": "4449b09b",
   "metadata": {},
   "outputs": [
    {
     "name": "stdout",
     "output_type": "stream",
     "text": [
      "18\n",
      "4\n"
     ]
    }
   ],
   "source": [
    "mysum,mycount = getCheckSum(\"6good7morning41\")\n",
    "print(mysum)\n",
    "print(mycount)"
   ]
  },
  {
   "cell_type": "markdown",
   "id": "1bf5242f",
   "metadata": {},
   "source": [
    "Working with string"
   ]
  },
  {
   "cell_type": "code",
   "execution_count": null,
   "id": "c6d14011",
   "metadata": {},
   "outputs": [],
   "source": [
    "str = \"My name is John\"\n",
    "for c in str:\n",
    "    print(c)\n",
    "    "
   ]
  }
 ],
 "metadata": {
  "kernelspec": {
   "display_name": "Python 3 (ipykernel)",
   "language": "python",
   "name": "python3"
  },
  "language_info": {
   "codemirror_mode": {
    "name": "ipython",
    "version": 3
   },
   "file_extension": ".py",
   "mimetype": "text/x-python",
   "name": "python",
   "nbconvert_exporter": "python",
   "pygments_lexer": "ipython3",
   "version": "3.10.1"
  }
 },
 "nbformat": 4,
 "nbformat_minor": 5
}
