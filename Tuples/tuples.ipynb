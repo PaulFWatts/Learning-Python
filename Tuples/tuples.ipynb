{
 "cells": [
  {
   "cell_type": "markdown",
   "metadata": {},
   "source": [
    "We often reach for lists when we have lots of values we want to store in order, for dictionaries when we want to lookup objects based on a key of sorts, and for sets when we care about the uniqueness of a bunch of values. There are other reasons to use each of these data structures but these are the most common use cases.\n",
    "\n",
    "Tuples are a bit like immutable lists, meaning tuples act like lists except you can't append/insert/remove or do any other operation that would change the tuples. Intuitively, new Pythonistas often conclude that tuples should be used whenever you have a list that shouldn't be changed. But tuples are often used a bit differently than simply \"immutable lists\". There are conventions around when tuples are used.\n",
    "\n",
    "By convention, whenever we need to mash a few heterogenous values together, Pythonistas are much more likely to reach for a tuple rather than a list. This is a convention you'll see in Python itself as well. For example a number of Python built-ins return tuples:"
   ]
  },
  {
   "cell_type": "code",
   "execution_count": null,
   "metadata": {},
   "outputs": [],
   "source": [
    "first = ['a', 'b']\n",
    "second = ['c','d']\n",
    "list(zip(first,second))\n"
   ]
  },
  {
   "cell_type": "code",
   "execution_count": null,
   "metadata": {},
   "outputs": [],
   "source": [
    "list(enumerate(first))"
   ]
  },
  {
   "cell_type": "code",
   "execution_count": null,
   "metadata": {},
   "outputs": [],
   "source": [
    "mapping = dict(zip(first, second))\n",
    "mapping.items()"
   ]
  },
  {
   "cell_type": "markdown",
   "metadata": {},
   "source": [
    "All of the examples above are two item tuples but two-ness isn't related to tuples (they're not two-ples but tuples). We could have truples and quadruples (3 and 4 item tuples, those are made up terms) and tuples of any other length.\n",
    "\n",
    "Tuples are often used for bundling a few values together and passing them around. Their immutability matters here less than the convention of using them differently from lists: lists are for an unknown number of homogeneous values (a list of numbers, a list of strings), whereas tuples are for a fixed number of heterogenous values (3 floating point coordinates, an index and a string, a key and a value, etc.)."
   ]
  },
  {
   "cell_type": "markdown",
   "metadata": {},
   "source": [
    "So tuples are used differently from lists, mostly by convention. We could put a lat-long coordinate pair in a list, but by convention, tuples are the structure we'd reach for in instead."
   ]
  },
  {
   "cell_type": "code",
   "execution_count": null,
   "metadata": {},
   "outputs": [],
   "source": [
    "latlong = (45.530074, -122.661978)"
   ]
  },
  {
   "cell_type": "markdown",
   "metadata": {},
   "source": [
    "\n",
    "[Tuple unpacking](https://treyhunner.com/2018/03/tuple-unpacking-improves-python-code-readability/) , also called iterable unpacking or multiple assignment, seems tuple-related (as the name implies), but tuple unpacking is more related to the conventions around tuples than to the tuple data type."
   ]
  },
  {
   "cell_type": "code",
   "execution_count": null,
   "metadata": {},
   "outputs": [],
   "source": [
    "# Tuple syntax to unpack a tuple\n",
    "\n",
    "a, b = (1, 2)\n",
    "(a,b) = (1, 2)\n"
   ]
  },
  {
   "cell_type": "code",
   "execution_count": null,
   "metadata": {},
   "outputs": [],
   "source": [
    "# Tuple syntax to unpack a list (or a tuple)\n",
    "\n",
    "a, b = [1, 2]\n",
    "[a, b] = [1, 2]\n",
    "[a, b] = (1, 2)\n"
   ]
  },
  {
   "cell_type": "markdown",
   "metadata": {},
   "source": [
    "Tuple unpacking in related to the convention of packing a few values together into a tuple and later unpacking them. It's not limited to tuples, it's just most frequently used with tuples."
   ]
  },
  {
   "cell_type": "markdown",
   "metadata": {},
   "source": [
    "\n",
    "\n",
    "[Tuple ordering](https://treyhunner.com/2019/03/python-deep-comparisons-and-code-readability) is also a something strongly associated with tuples that isn't *specific* to tuples."
   ]
  },
  {
   "cell_type": "code",
   "execution_count": null,
   "metadata": {},
   "outputs": [],
   "source": [
    "# Tuple ordering to compare tuples of strings\n",
    "\n",
    "bool = ('Hunner', 'Trey') != ('Hunner', 'Zray')\n",
    "print(bool)"
   ]
  },
  {
   "cell_type": "code",
   "execution_count": null,
   "metadata": {},
   "outputs": [],
   "source": [
    "# Tuple ordering to compare lists of strings\n",
    "\n",
    "bool = ['Hunner', 'Trey'] != ['Hunner', 'Zray']\n",
    "print(bool)"
   ]
  },
  {
   "cell_type": "markdown",
   "metadata": {},
   "source": [
    "\n",
    "[Python Names and Values](https://nedbatchelder.com/text/names1.html)\n",
    "\n",
    "https://treyhunner.com/2018/03/tuple-unpacking-improves-python-code-readability\n",
    "\n",
    "https://treyhunner.com/2019/03/python-deep-comparisons-and-code-readability"
   ]
  }
 ],
 "metadata": {
  "kernelspec": {
   "display_name": "Python 3",
   "language": "python",
   "name": "python3"
  },
  "language_info": {
   "codemirror_mode": {
    "name": "ipython",
    "version": 3
   },
   "file_extension": ".py",
   "mimetype": "text/x-python",
   "name": "python",
   "nbconvert_exporter": "python",
   "pygments_lexer": "ipython3",
   "version": "3.11.0"
  },
  "orig_nbformat": 4,
  "vscode": {
   "interpreter": {
    "hash": "fd370e2ef762213f887f1c37adf666c38019991489d30dcd87899151b606ec5a"
   }
  }
 },
 "nbformat": 4,
 "nbformat_minor": 2
}
