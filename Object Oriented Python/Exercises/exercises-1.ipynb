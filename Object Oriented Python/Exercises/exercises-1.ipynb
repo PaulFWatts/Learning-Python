{
 "cells": [
  {
   "cell_type": "code",
   "execution_count": 18,
   "metadata": {},
   "outputs": [
    {
     "name": "stdout",
     "output_type": "stream",
     "text": [
      "chocolate\n",
      "chocolate\n",
      "vanilla\n",
      "coffee\n"
     ]
    }
   ],
   "source": [
    "# Exercise 1 - Create a class called Scoop with a single attribute called flavor. Then create three instances of Scoop, passing in three different flavors. Print out the flavor for each Scoop.\n",
    "\n",
    "class Scoop:\n",
    "    def __init__(self, flavor):\n",
    "        self.flavor = flavor\n",
    "\n",
    "    \n",
    "s1 = Scoop('chocolate')\n",
    "s2 = Scoop('vanilla')\n",
    "s3 = Scoop('coffee')\n",
    "\n",
    "print(s1.flavor) # chocolate\n",
    "\n",
    "for s in [s1, s2, s3]:\n",
    "    print(s.flavor) # chocolate, vanilla, coffee"
   ]
  },
  {
   "cell_type": "code",
   "execution_count": 19,
   "metadata": {},
   "outputs": [
    {
     "name": "stdout",
     "output_type": "stream",
     "text": [
      "John john@me.com 123-456-7890\n",
      "Jane jane@me.com 123-456-7890\n",
      "Jack jack@me.com 123-456-7890\n",
      "\n",
      "John john@me.com 123-456-7890\n",
      "Jane jane.doe@me.com 123-456-7890\n",
      "Jack jack@me.com 123-456-7890\n"
     ]
    }
   ],
   "source": [
    "'''\n",
    "    Exercise 2 - Creata a class called Person class -- name, e-mail address, and phone number\n",
    "\n",
    "    Create several people, and iterate over them in a list\n",
    "    and print their names (similar to a phone book)\n",
    "\n",
    "    Change the e-mail address of one person, and show\n",
    "    that it has changed by printing your list a second time\n",
    "'''\n",
    "\n",
    "class Person:\n",
    "    def __init__(self, name, email, phone):\n",
    "        self.name = name\n",
    "        self.email = email\n",
    "        self.phone = phone\n",
    "        \n",
    "p1 = Person('John', 'john@me.com', '123-456-7890')\n",
    "p2: Person = Person('Jane', 'jane@me.com', '123-456-7890')\n",
    "p3: Person = Person('Jack', 'jack@me.com', '123-456-7890')\n",
    "\n",
    "for person in [p1, p2, p3]:\n",
    "    print(person.name, person.email, person.phone)\n",
    "    \n",
    "p2.email = 'jane.doe@me.com'\n",
    "print()\n",
    "\n",
    "for person in [p1, p2, p3]:\n",
    "    print(person.name, person.email, person.phone)"
   ]
  },
  {
   "cell_type": "code",
   "execution_count": 20,
   "metadata": {},
   "outputs": [
    {
     "name": "stdout",
     "output_type": "stream",
     "text": [
      "[1.22, 3.45, -5.67, 7.89, -9.01, 8.22, 7.33, 6.44, 5.55, 4.66, 3.77, 2.88, 1.99] \n",
      " [2.22, 4.44, -6.66, 8.88, -10.1, 9.22, 8.33, 7.44, 6.55, 5.66] \n",
      "\n",
      "a1:  13 transactions, average:  2.98 balance:  38.72\n",
      "a2:  10 transactions, average:  3.6 balance:  35.98\n"
     ]
    }
   ],
   "source": [
    "'''\n",
    "    Exercise 3 - Create a BankAccount class. It'll have a single\n",
    "    attribute (per instance), transactions -- a list of floats\n",
    "    \n",
    "    Every time you deposit, append a positive float\n",
    "    Every time you withdraw, append a negative float\n",
    "    \n",
    "    (a) create two different accounts\n",
    "    (b) add a number of transactions +/- to each account\n",
    "    (c) show, for each account, the number of transactions\n",
    "    and the average amount per transaction, as well as\n",
    "    the current balance.  (assume it starts at 0)\n",
    "    \n",
    "'''\n",
    "\n",
    "class BankAccount:\n",
    "    def __init__(self):\n",
    "        self.transactions = []\n",
    "        \n",
    "a1 = BankAccount()\n",
    "a2 = BankAccount()\n",
    "\n",
    "a1 = [1.22, 3.45, -5.67, 7.89, -9.01, 8.22, 7.33, 6.44, 5.55, 4.66, 3.77, 2.88, 1.99]\n",
    "a2 = [2.22, 4.44, -6.66, 8.88, -10.10, 9.22, 8.33, 7.44, 6.55, 5.66]\n",
    "print (a1,'\\n',a2,'\\n')\n",
    "\n",
    "# print required information\n",
    "print('a1: ', len(a1), 'transactions, average: ', round(sum(a1)/len(a1), 2), 'balance: ', round(sum(a1), 2))\n",
    "print('a2: ', len(a2), 'transactions, average: ', round(sum(a2)/len(a2), 2), 'balance: ', round(sum(a2), 2))"
   ]
  }
 ],
 "metadata": {
  "kernelspec": {
   "display_name": "Python 3",
   "language": "python",
   "name": "python3"
  },
  "language_info": {
   "codemirror_mode": {
    "name": "ipython",
    "version": 3
   },
   "file_extension": ".py",
   "mimetype": "text/x-python",
   "name": "python",
   "nbconvert_exporter": "python",
   "pygments_lexer": "ipython3",
   "version": "3.11.1 (tags/v3.11.1:a7a450f, Dec  6 2022, 19:58:39) [MSC v.1934 64 bit (AMD64)]"
  },
  "orig_nbformat": 4,
  "vscode": {
   "interpreter": {
    "hash": "fc7236951f657466e312c8b8b9271db0d3d9248e4251a7079ecb67b789ebf4d6"
   }
  }
 },
 "nbformat": 4,
 "nbformat_minor": 2
}
