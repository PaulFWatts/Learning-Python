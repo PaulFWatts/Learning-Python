{
 "cells": [
  {
   "cell_type": "code",
   "execution_count": null,
   "metadata": {},
   "outputs": [],
   "source": [
    "# (1) Create a Bowl class.  We can put scoops in the bowl!\n",
    "\n",
    "class Scoop:\n",
    "    def __init__(self, flavor):\n",
    "        self.flavor = flavor\n",
    "        \n",
    "s1 = Scoop('chocolate')\n",
    "s2 = Scoop('vanilla')\n",
    "s3 = Scoop('coffee')\n",
    "\n",
    "class Bowl:\n",
    "    def __init__(self):\n",
    "        self.scoops = []\n",
    "        \n",
    "    def add_scoops(self, *new_scoops):\n",
    "        self.scoops += new_scoops\n",
    "    \n",
    "    def flavors(self):\n",
    "        return ', '.join([scoops.flavor for scoops in self.scoops])\n",
    "\n",
    "\n",
    "b = Bowl()\n",
    "b.add_scoops(s1, s2)\n",
    "b.add_scoops(s3)\n",
    "b.flavors()  # returns a string of \"chocolate, vanilla, coffee\""
   ]
  },
  {
   "cell_type": "code",
   "execution_count": null,
   "metadata": {},
   "outputs": [],
   "source": [
    "'''\n",
    "(2) Use our existing Person and BankAccount classes.  Make it possible\n",
    "    for a person to have one or more bank accounts.  So we can say:\n",
    "\n",
    "    p1.add_account(ba1)\n",
    "    p1.add_account(ba2)\n",
    "\n",
    "    p1.all_balances()           # returns a list of floats representing balances\n",
    "    p1.current_total_balance()  # gives the total balance across all accounts\n",
    "    \n",
    "    p1.average_transaction_amount()  # returns the average amount of transactions across all accounts\n",
    "'''\n",
    "\n",
    "class Person:\n",
    "    def __init__(self, name):\n",
    "        self.name = name\n",
    "        self.accounts = []\n",
    "        \n",
    "    def add_account(self, new_account):\n",
    "        self.accounts.append(new_account)\n",
    "        \n",
    "    def all_balances(self):\n",
    "        return [sum(account.transactions) for account in self.accounts]\n",
    "    \n",
    "    def current_total_balance(self):\n",
    "        return sum(self.all_balances())\n",
    "    \n",
    "    def average_transaction_amount(self):\n",
    "        return self.current_total_balance() / len(self.all_balances())\n",
    "\n",
    "class BankAccount:\n",
    "    def __init__(self):\n",
    "        self.transactions = []\n",
    "        \n",
    "p1 = Person('Alice')\n",
    "\n",
    "\n",
    "ba1 = BankAccount()\n",
    "ba1.transactions = [10, 20, 30]\n",
    "\n",
    "ba2 = BankAccount()\n",
    "ba2.transactions = [10, 20, 30, 40]\n",
    "\n",
    "p1.add_account(ba1)\n",
    "p1.add_account(ba2)\n",
    "\n",
    "print(p1.all_balances())  # returns a list of floats representing balances\n",
    "\n",
    "print(p1.current_total_balance())  # gives the total balance across all accounts\n",
    "\n",
    "print(p1.average_transaction_amount())  # returns the average amount of transactions across all accounts"
   ]
  },
  {
   "cell_type": "code",
   "execution_count": 13,
   "metadata": {},
   "outputs": [
    {
     "data": {
      "text/plain": [
       "39"
      ]
     },
     "execution_count": 13,
     "metadata": {},
     "output_type": "execute_result"
    }
   ],
   "source": [
    "# (3) Create a ShoppingCart class.\n",
    "\n",
    "class ShoppingCart:\n",
    "    def __init__(self):\n",
    "        self.items = {}\n",
    "        \n",
    "    def add(self, name, price, quantity):\n",
    "        if name not in self.items:\n",
    "            self.items[name] = [price, quantity]\n",
    "        else:\n",
    "            self.items[name][1] += quantity\n",
    "            \n",
    "    def remove(self, name):\n",
    "        if name in self.items:\n",
    "            self.items[name][1] -= 1\n",
    "            if self.items[name][1] == 0:\n",
    "                del self.items[name]\n",
    "                \n",
    "    def total(self):\n",
    "        return sum([price * quantity for price, quantity in self.items.values()])\n",
    "\n",
    "sc = ShoppingCart()\n",
    "sc.add('book', 30, 1)    # name, price-per-unit, quantity\n",
    "sc.add('toothbrush', 3, 4)\n",
    "\n",
    "sc.remove('toothbrush')   # removes one toothbrush -- or removes\n",
    "                            # the item altogether if the quantity is 0\n",
    "\n",
    "sc.total()  # returns the total price of items in the shopping cart"
   ]
  }
 ],
 "metadata": {
  "kernelspec": {
   "display_name": "Python 3",
   "language": "python",
   "name": "python3"
  },
  "language_info": {
   "codemirror_mode": {
    "name": "ipython",
    "version": 3
   },
   "file_extension": ".py",
   "mimetype": "text/x-python",
   "name": "python",
   "nbconvert_exporter": "python",
   "pygments_lexer": "ipython3",
   "version": "3.11.1"
  },
  "orig_nbformat": 4,
  "vscode": {
   "interpreter": {
    "hash": "fc7236951f657466e312c8b8b9271db0d3d9248e4251a7079ecb67b789ebf4d6"
   }
  }
 },
 "nbformat": 4,
 "nbformat_minor": 2
}
