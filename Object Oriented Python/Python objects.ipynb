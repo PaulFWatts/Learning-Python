{
 "cells": [
  {
   "cell_type": "code",
   "execution_count": null,
   "metadata": {},
   "outputs": [],
   "source": [
    "# everything is an object means:\n",
    "# (1) everything has a type/class\n",
    "# (2) everything has attributes"
   ]
  },
  {
   "cell_type": "code",
   "execution_count": null,
   "metadata": {},
   "outputs": [],
   "source": [
    "x = 100\n",
    "type(x) "
   ]
  },
  {
   "cell_type": "code",
   "execution_count": null,
   "metadata": {},
   "outputs": [],
   "source": [
    "x = 'abcd'\n",
    "type(x)"
   ]
  },
  {
   "cell_type": "code",
   "execution_count": null,
   "metadata": {},
   "outputs": [],
   "source": [
    "x = [10, 20, 30]\n",
    "type(x)"
   ]
  },
  {
   "cell_type": "code",
   "execution_count": null,
   "metadata": {},
   "outputs": [],
   "source": [
    "int('123')"
   ]
  },
  {
   "cell_type": "code",
   "execution_count": null,
   "metadata": {},
   "outputs": [],
   "source": [
    "str(123)"
   ]
  },
  {
   "cell_type": "code",
   "execution_count": null,
   "metadata": {},
   "outputs": [],
   "source": [
    "list('abcd')"
   ]
  },
  {
   "cell_type": "code",
   "execution_count": null,
   "metadata": {},
   "outputs": [],
   "source": [
    "type(int)   "
   ]
  },
  {
   "cell_type": "code",
   "execution_count": null,
   "metadata": {},
   "outputs": [],
   "source": [
    "type(str)"
   ]
  },
  {
   "cell_type": "code",
   "execution_count": null,
   "metadata": {},
   "outputs": [],
   "source": [
    "type(list)"
   ]
  },
  {
   "cell_type": "code",
   "execution_count": null,
   "metadata": {},
   "outputs": [],
   "source": [
    "# factory's factory = type -- every class's type is \"type\""
   ]
  },
  {
   "cell_type": "code",
   "execution_count": null,
   "metadata": {},
   "outputs": [],
   "source": [
    "type(type)  "
   ]
  },
  {
   "cell_type": "code",
   "execution_count": null,
   "metadata": {
    "collapsed": true
   },
   "outputs": [],
   "source": [
    "# a # identifier = name = variable or function.. an object of some sort\n",
    "  # search is LEGB \n",
    "    \n",
    "#a.b  # .b means: Look for the name (\"attribute\") b inside of the object a\n",
    "\n",
    "a = 'abcd'\n",
    "dir(a) # \"dunders\" -- double underscore "
   ]
  },
  {
   "cell_type": "code",
   "execution_count": null,
   "metadata": {},
   "outputs": [],
   "source": [
    "a.upper()"
   ]
  },
  {
   "cell_type": "code",
   "execution_count": 24,
   "metadata": {},
   "outputs": [],
   "source": [
    "import os"
   ]
  },
  {
   "cell_type": "code",
   "execution_count": null,
   "metadata": {},
   "outputs": [],
   "source": [
    "os.sep"
   ]
  },
  {
   "cell_type": "code",
   "execution_count": null,
   "metadata": {},
   "outputs": [],
   "source": [
    "os.sep = 'hahaha'"
   ]
  },
  {
   "cell_type": "code",
   "execution_count": null,
   "metadata": {},
   "outputs": [],
   "source": [
    "os.sep "
   ]
  },
  {
   "cell_type": "code",
   "execution_count": 25,
   "metadata": {},
   "outputs": [],
   "source": [
    "os.my_course_name = 'Python objects'"
   ]
  },
  {
   "cell_type": "code",
   "execution_count": 26,
   "metadata": {},
   "outputs": [
    {
     "data": {
      "text/plain": [
       "'Python objects'"
      ]
     },
     "execution_count": 26,
     "metadata": {},
     "output_type": "execute_result"
    }
   ],
   "source": [
    "os.my_course_name"
   ]
  },
  {
   "cell_type": "code",
   "execution_count": null,
   "metadata": {},
   "outputs": [],
   "source": [
    "mylist = [10, 20, 30]\n",
    "sum(mylist)    # \"sum\" is a function, takes a list as an argument"
   ]
  },
  {
   "cell_type": "code",
   "execution_count": null,
   "metadata": {},
   "outputs": [],
   "source": [
    "# f(x)"
   ]
  },
  {
   "cell_type": "code",
   "execution_count": null,
   "metadata": {},
   "outputs": [],
   "source": [
    "mylist.sum()   # this will not work!"
   ]
  },
  {
   "cell_type": "code",
   "execution_count": null,
   "metadata": {},
   "outputs": [],
   "source": [
    "mylist.pop()"
   ]
  },
  {
   "cell_type": "code",
   "execution_count": null,
   "metadata": {},
   "outputs": [],
   "source": [
    "mylist"
   ]
  },
  {
   "cell_type": "code",
   "execution_count": null,
   "metadata": {},
   "outputs": [],
   "source": [
    "# o.m()"
   ]
  },
  {
   "cell_type": "code",
   "execution_count": null,
   "metadata": {},
   "outputs": [],
   "source": [
    "len(mylist)"
   ]
  },
  {
   "cell_type": "code",
   "execution_count": null,
   "metadata": {
    "collapsed": true
   },
   "outputs": [],
   "source": [
    "dir(mylist)"
   ]
  },
  {
   "cell_type": "code",
   "execution_count": null,
   "metadata": {},
   "outputs": [],
   "source": [
    "help(list)"
   ]
  },
  {
   "cell_type": "code",
   "execution_count": 28,
   "metadata": {},
   "outputs": [],
   "source": [
    "class Foo(object):\n",
    "    pass"
   ]
  },
  {
   "cell_type": "code",
   "execution_count": null,
   "metadata": {},
   "outputs": [],
   "source": [
    "type(Foo)  "
   ]
  },
  {
   "cell_type": "code",
   "execution_count": null,
   "metadata": {},
   "outputs": [],
   "source": [
    "int('123')"
   ]
  },
  {
   "cell_type": "code",
   "execution_count": null,
   "metadata": {},
   "outputs": [],
   "source": [
    "int()"
   ]
  },
  {
   "cell_type": "code",
   "execution_count": null,
   "metadata": {},
   "outputs": [],
   "source": [
    "str(123)"
   ]
  },
  {
   "cell_type": "code",
   "execution_count": null,
   "metadata": {},
   "outputs": [],
   "source": [
    "str()"
   ]
  },
  {
   "cell_type": "code",
   "execution_count": 29,
   "metadata": {},
   "outputs": [
    {
     "data": {
      "text/plain": [
       "<__main__.Foo at 0x7f8a7d419190>"
      ]
     },
     "execution_count": 29,
     "metadata": {},
     "output_type": "execute_result"
    }
   ],
   "source": [
    "Foo() # create an instance of the class Foo"
   ]
  },
  {
   "cell_type": "code",
   "execution_count": 30,
   "metadata": {},
   "outputs": [],
   "source": [
    "f = Foo() # f is an instance of Foo"
   ]
  },
  {
   "cell_type": "code",
   "execution_count": 31,
   "metadata": {},
   "outputs": [
    {
     "data": {
      "text/plain": [
       "__main__.Foo"
      ]
     },
     "execution_count": 31,
     "metadata": {},
     "output_type": "execute_result"
    }
   ],
   "source": [
    "type(f)"
   ]
  },
  {
   "cell_type": "code",
   "execution_count": null,
   "metadata": {},
   "outputs": [],
   "source": [
    "dir(Foo)"
   ]
  },
  {
   "cell_type": "code",
   "execution_count": null,
   "metadata": {},
   "outputs": [],
   "source": [
    "dir(f)"
   ]
  },
  {
   "cell_type": "code",
   "execution_count": 32,
   "metadata": {},
   "outputs": [],
   "source": [
    "f = Foo() # f is an instance of Foo"
   ]
  },
  {
   "cell_type": "raw",
   "metadata": {},
   "source": [
    "vars()  # globals()   \n",
    "def bar():\n",
    "    vars()   # locals()\n",
    "    \n",
    "    "
   ]
  },
  {
   "cell_type": "code",
   "execution_count": 33,
   "metadata": {},
   "outputs": [
    {
     "data": {
      "text/plain": [
       "{}"
      ]
     },
     "execution_count": 33,
     "metadata": {},
     "output_type": "execute_result"
    }
   ],
   "source": [
    "vars(f) # We can see that f has no attributes"
   ]
  },
  {
   "cell_type": "code",
   "execution_count": null,
   "metadata": {},
   "outputs": [],
   "source": [
    "f.x = 100 # We can add attributes to f\n",
    "f.y = [10, 20, 30] # We can add attributes to f\n",
    "\n",
    "dir(f)"
   ]
  },
  {
   "cell_type": "code",
   "execution_count": 35,
   "metadata": {},
   "outputs": [
    {
     "data": {
      "text/plain": [
       "{'x': 100, 'y': [10, 20, 30]}"
      ]
     },
     "execution_count": 35,
     "metadata": {},
     "output_type": "execute_result"
    }
   ],
   "source": [
    "vars(f) # Returns a dictionary of the attributes of f that we added"
   ]
  },
  {
   "cell_type": "code",
   "execution_count": 36,
   "metadata": {},
   "outputs": [],
   "source": [
    "g = Foo()"
   ]
  },
  {
   "cell_type": "code",
   "execution_count": 37,
   "metadata": {},
   "outputs": [
    {
     "data": {
      "text/plain": [
       "{'a': {'a': 1, 'b': 2, 'c': 3}, 'b': {10, 20, 30, 40, 50}}"
      ]
     },
     "execution_count": 37,
     "metadata": {},
     "output_type": "execute_result"
    }
   ],
   "source": [
    "g.a = {'a':1, 'b':2, 'c':3}\n",
    "g.b = {10, 20, 30, 40, 50}\n",
    "\n",
    "vars(g)"
   ]
  },
  {
   "cell_type": "code",
   "execution_count": 38,
   "metadata": {},
   "outputs": [
    {
     "data": {
      "text/plain": [
       "{'x': 100, 'y': [10, 20, 30]}"
      ]
     },
     "execution_count": 38,
     "metadata": {},
     "output_type": "execute_result"
    }
   ],
   "source": [
    "vars(f)"
   ]
  },
  {
   "cell_type": "code",
   "execution_count": null,
   "metadata": {},
   "outputs": [],
   "source": [
    "class Foo(object):\n",
    "    def __init__(self):\n",
    "        self.x = 100\n",
    "        self.y = [10, 20, 30]"
   ]
  },
  {
   "cell_type": "code",
   "execution_count": null,
   "metadata": {},
   "outputs": [],
   "source": [
    "f = Foo()\n",
    "vars(f)"
   ]
  },
  {
   "cell_type": "code",
   "execution_count": null,
   "metadata": {},
   "outputs": [],
   "source": [
    "g = Foo()\n",
    "vars(g)"
   ]
  },
  {
   "cell_type": "code",
   "execution_count": null,
   "metadata": {},
   "outputs": [],
   "source": [
    "f.x"
   ]
  },
  {
   "cell_type": "code",
   "execution_count": null,
   "metadata": {},
   "outputs": [],
   "source": [
    "f.x = 200\n",
    "vars(f)"
   ]
  },
  {
   "cell_type": "code",
   "execution_count": null,
   "metadata": {},
   "outputs": [],
   "source": [
    "f.y.append(40)\n",
    "vars(f)"
   ]
  },
  {
   "cell_type": "code",
   "execution_count": null,
   "metadata": {},
   "outputs": [],
   "source": [
    "  class Foo(object):\n",
    "    def __init__(self, x, y):\n",
    "        self.x = x\n",
    "        self.y = y "
   ]
  },
  {
   "cell_type": "code",
   "execution_count": null,
   "metadata": {},
   "outputs": [],
   "source": [
    "f = Foo(10, 20)"
   ]
  },
  {
   "cell_type": "code",
   "execution_count": null,
   "metadata": {},
   "outputs": [],
   "source": [
    "vars(f)"
   ]
  },
  {
   "cell_type": "code",
   "execution_count": null,
   "metadata": {},
   "outputs": [],
   "source": [
    "f = Foo() "
   ]
  },
  {
   "cell_type": "code",
   "execution_count": null,
   "metadata": {},
   "outputs": [],
   "source": [
    "f = Foo(10)"
   ]
  },
  {
   "cell_type": "code",
   "execution_count": null,
   "metadata": {},
   "outputs": [],
   "source": [
    "  class Foo(object):\n",
    "    def __init__(self, x=888, y=999):\n",
    "        self.x = x\n",
    "        self.y = y "
   ]
  },
  {
   "cell_type": "code",
   "execution_count": null,
   "metadata": {},
   "outputs": [],
   "source": [
    "f = Foo()\n",
    "vars(f)"
   ]
  },
  {
   "cell_type": "code",
   "execution_count": null,
   "metadata": {},
   "outputs": [],
   "source": [
    "class Foo(object):\n",
    "    def __init__(self, x, *args):\n",
    "        self.x = x\n",
    "        self.args = args"
   ]
  },
  {
   "cell_type": "code",
   "execution_count": null,
   "metadata": {},
   "outputs": [],
   "source": [
    "f = Foo(10, 20, 30, 40, 50)\n",
    "vars(f)"
   ]
  },
  {
   "cell_type": "code",
   "execution_count": null,
   "metadata": {},
   "outputs": [],
   "source": [
    "computers = [{'brand':'Apple', 'year':2014},\n",
    "            {'brand':'HP', 'year':2016},\n",
    "            {'brand':'Lenovo', 'year':2016},\n",
    "             {'brand':'Apple', 'year':2010}            ]"
   ]
  },
  {
   "cell_type": "code",
   "execution_count": null,
   "metadata": {},
   "outputs": [],
   "source": [
    "for one_computer in computers:\n",
    "    print(f\"{one_computer['brand']}, from {one_computer['year']}\")"
   ]
  },
  {
   "cell_type": "code",
   "execution_count": null,
   "metadata": {},
   "outputs": [],
   "source": [
    "for one_computer in computers:\n",
    "    if one_computer['year'] == 2016:\n",
    "        print(f\"{one_computer['brand']}, from {one_computer['year']}\")"
   ]
  },
  {
   "cell_type": "code",
   "execution_count": null,
   "metadata": {},
   "outputs": [],
   "source": [
    "class Computer(object):\n",
    "    def __init__(self, brand, year):\n",
    "        self.brand = brand\n",
    "        self.year = year\n",
    "        \n",
    "c1 = Computer('Apple', 2014)\n",
    "c2 = Computer('HP', 2016)\n",
    "c3 = Computer('Lenovo', 2016)\n",
    "c4 = Computer('Apple', 2010)"
   ]
  },
  {
   "cell_type": "code",
   "execution_count": null,
   "metadata": {},
   "outputs": [],
   "source": [
    "my_computers = [c1, c2, c3, c4]\n",
    "\n",
    "for one_computer in my_computers:\n",
    "    print(f\"{one_computer.brand}, from {one_computer.year}\")"
   ]
  },
  {
   "cell_type": "code",
   "execution_count": null,
   "metadata": {},
   "outputs": [],
   "source": [
    "class Book(object):\n",
    "    def __init__(self, title, author, price):\n",
    "        self.title = title\n",
    "        self.author = author\n",
    "        self.price = price\n",
    "        \n",
    "all_books = [ ]\n",
    "while True:\n",
    "    title = input(\"Enter title (or <enter> to stop): \").strip()\n",
    "    if not title:\n",
    "        break\n",
    "    author = input(\"Enter author: \").strip()\n",
    "    price = float(input(\"Enter price: \"))\n",
    "    \n",
    "    all_books.append(Book(title, author, price))\n",
    "    \n",
    "print(all_books)"
   ]
  },
  {
   "cell_type": "code",
   "execution_count": null,
   "metadata": {},
   "outputs": [],
   "source": [
    "# (1) Scoop class -- each instance is one scoop of ice cream\n",
    "\n",
    "class Scoop(object):\n",
    "    def __init__(self, flavor):\n",
    "        self.flavor = flavor\n",
    "\n",
    "\n",
    "s1 = Scoop('chocolate')\n",
    "s2 = Scoop('vanilla')\n",
    "s3 = Scoop('coffee')\n",
    "\n",
    "print(s1.flavor)  # chocolate\n",
    "\n",
    "for one_scoop in [s1, s2, s3]:\n",
    "    print(one_scoop.flavor)  # chocolate, vanilla, coffee\n",
    "\n"
   ]
  },
  {
   "cell_type": "code",
   "execution_count": null,
   "metadata": {},
   "outputs": [],
   "source": [
    "# (2) Person class -- name, e-mail address, and phone number\n",
    "\n",
    "#     Create several people, and iterate over them in a list\n",
    "#     and print their names (similar to a phone book)\n",
    "\n",
    "#     Change the e-mail address of one person, and show\n",
    "#     that it has changed by printing your list a second time\n",
    "\n",
    "class Person(object):\n",
    "    def __init__(self, name, email, phone):\n",
    "        self.name = name\n",
    "        self.email = email\n",
    "        self.phone = phone\n",
    "        \n",
    "p1 = Person('Reuven', 'reuven@lerner.co.il', '123456')\n",
    "p2 = Person('Joe Schmoe', 'joe@schmoe.com', '555666777')"
   ]
  },
  {
   "cell_type": "code",
   "execution_count": null,
   "metadata": {},
   "outputs": [],
   "source": [
    "print(p1.name)"
   ]
  },
  {
   "cell_type": "code",
   "execution_count": null,
   "metadata": {},
   "outputs": [],
   "source": [
    "print(p1.email)"
   ]
  },
  {
   "cell_type": "code",
   "execution_count": null,
   "metadata": {},
   "outputs": [],
   "source": [
    "print(p1.phone)"
   ]
  },
  {
   "cell_type": "code",
   "execution_count": null,
   "metadata": {},
   "outputs": [],
   "source": [
    "phone_book = [p1, p2]\n",
    "\n",
    "for one_person in phone_book:\n",
    "    print(f\"{one_person.name}, phone {one_person.phone}, email {one_person.email}\")"
   ]
  },
  {
   "cell_type": "code",
   "execution_count": null,
   "metadata": {},
   "outputs": [],
   "source": [
    "p2.phone = 99999"
   ]
  },
  {
   "cell_type": "code",
   "execution_count": null,
   "metadata": {},
   "outputs": [],
   "source": [
    "p2"
   ]
  },
  {
   "cell_type": "code",
   "execution_count": null,
   "metadata": {},
   "outputs": [],
   "source": [
    "p2.phone"
   ]
  },
  {
   "cell_type": "code",
   "execution_count": null,
   "metadata": {},
   "outputs": [],
   "source": [
    "for one_person in phone_book:\n",
    "    print(f\"{one_person.name}, phone {one_person.phone}, email {one_person.email}\")"
   ]
  },
  {
   "cell_type": "code",
   "execution_count": null,
   "metadata": {},
   "outputs": [],
   "source": [
    "# (3) Create a BankAccount class. It'll have a single\n",
    "#     attribute (per instance), transactions -- a list of floats\n",
    "\n",
    "#     Every time you deposit, append a positive float\n",
    "#     Every time you withdraw, append a negative float\n",
    "\n",
    "#     (a) create two different accounts\n",
    "#     (b) add a number of transactions +/- to each account\n",
    "#     (c) show, for each account, the number of transactions\n",
    "#     and the average amount per transaction, as well as\n",
    "#     the current balance.  (assume it starts at 0)\n",
    "\n",
    "\n",
    "class BankAccount(object):\n",
    "    def __init__(self):\n",
    "        self.transactions = [ ]\n",
    "        \n",
    "checking = BankAccount()\n",
    "savings = BankAccount()"
   ]
  },
  {
   "cell_type": "code",
   "execution_count": null,
   "metadata": {},
   "outputs": [],
   "source": [
    "checking.transactions.append(100)"
   ]
  },
  {
   "cell_type": "code",
   "execution_count": null,
   "metadata": {},
   "outputs": [],
   "source": [
    "checking.transactions.append(-50)"
   ]
  },
  {
   "cell_type": "code",
   "execution_count": null,
   "metadata": {},
   "outputs": [],
   "source": [
    "checking.transactions.append(500)"
   ]
  },
  {
   "cell_type": "code",
   "execution_count": null,
   "metadata": {},
   "outputs": [],
   "source": [
    "checking.transactions.append(-250)"
   ]
  },
  {
   "cell_type": "code",
   "execution_count": null,
   "metadata": {},
   "outputs": [],
   "source": [
    "sum(checking.transactions)"
   ]
  },
  {
   "cell_type": "code",
   "execution_count": null,
   "metadata": {},
   "outputs": [],
   "source": [
    "sum(checking.transactions) / len(checking.transactions)"
   ]
  },
  {
   "cell_type": "code",
   "execution_count": null,
   "metadata": {},
   "outputs": [],
   "source": [
    "sum(savings.transactions)"
   ]
  },
  {
   "cell_type": "code",
   "execution_count": null,
   "metadata": {},
   "outputs": [],
   "source": [
    "savings.transactions.append(1000)"
   ]
  },
  {
   "cell_type": "code",
   "execution_count": null,
   "metadata": {},
   "outputs": [],
   "source": [
    "savings.transactions.append(2000)"
   ]
  },
  {
   "cell_type": "code",
   "execution_count": null,
   "metadata": {},
   "outputs": [],
   "source": [
    "savings.transactions.append(-100)"
   ]
  },
  {
   "cell_type": "code",
   "execution_count": null,
   "metadata": {},
   "outputs": [],
   "source": [
    "sum(savings.transactions)"
   ]
  },
  {
   "cell_type": "code",
   "execution_count": null,
   "metadata": {},
   "outputs": [],
   "source": [
    "sum(savings.transactions) / len(savings.transactions)"
   ]
  },
  {
   "cell_type": "code",
   "execution_count": null,
   "metadata": {},
   "outputs": [],
   "source": [
    "class Foo(object):\n",
    "    def __init__(self, x):\n",
    "        self.x = x\n",
    "        \n",
    "    def x2(self):\n",
    "        return self.x * 2"
   ]
  },
  {
   "cell_type": "code",
   "execution_count": null,
   "metadata": {},
   "outputs": [],
   "source": [
    "f = Foo(10)"
   ]
  },
  {
   "cell_type": "code",
   "execution_count": null,
   "metadata": {},
   "outputs": [],
   "source": [
    "vars(f)"
   ]
  },
  {
   "cell_type": "code",
   "execution_count": null,
   "metadata": {},
   "outputs": [],
   "source": [
    "f.x2()   # invokes the method x2 on our f object"
   ]
  },
  {
   "cell_type": "code",
   "execution_count": null,
   "metadata": {},
   "outputs": [],
   "source": [
    "Foo.x2(f)  # the above line, f.x2(), is secretly rewritten to look like this!"
   ]
  },
  {
   "cell_type": "code",
   "execution_count": null,
   "metadata": {},
   "outputs": [],
   "source": [
    "class Foo(object):\n",
    "    def __init__(self, x):\n",
    "        self.x = x\n",
    "        \n",
    "    def x2(self):\n",
    "        return self.x * 2"
   ]
  },
  {
   "cell_type": "code",
   "execution_count": null,
   "metadata": {},
   "outputs": [],
   "source": [
    "f = Foo(10)\n",
    "f.x2()"
   ]
  },
  {
   "cell_type": "code",
   "execution_count": null,
   "metadata": {},
   "outputs": [],
   "source": [
    "class Foo(object):\n",
    "    def __init__(self, x):\n",
    "        self.x = x\n",
    "        \n",
    "    def get_x(self):\n",
    "        return self.x\n",
    "    \n",
    "    def set_x(self, new_x):\n",
    "        self.x = new_x\n",
    "        \n",
    "f = Foo(10)\n",
    "print(f.get_x())\n",
    "f.set_x(20)\n",
    "print(f.get_x())"
   ]
  },
  {
   "cell_type": "code",
   "execution_count": null,
   "metadata": {},
   "outputs": [],
   "source": [
    "class Foo(object):\n",
    "    def __init__(self, x):\n",
    "        self.x = x\n",
    "        \n",
    "#     def get_x(self):    # getter or accessor\n",
    "#         return self.x\n",
    "    \n",
    "#     def set_x(self, new_x):  # setter or mutator \n",
    "#         self.x = new_x\n",
    "        \n",
    "f = Foo(10)\n",
    "print(f.x)\n",
    "f.x = 20\n",
    "print(f.x)"
   ]
  },
  {
   "cell_type": "code",
   "execution_count": null,
   "metadata": {},
   "outputs": [],
   "source": [
    "class Book(object):\n",
    "    def __init__(self, title, author, price=30):\n",
    "        self.title = title\n",
    "        self.author = author\n",
    "        self.price = price\n",
    "        \n",
    "    def nice_author_name(self):\n",
    "        return ', '.join(reversed(self.author.split()))\n",
    "    \n",
    "    def price_with_tax(self):\n",
    "        return self.price * 1.15\n",
    "        \n",
    "b1 = Book('Title1', 'John Smith')\n",
    "b2 = Book('Title2', 'David Cohen')\n",
    "b3 = Book('TItle3', 'David Cohen', 25)"
   ]
  },
  {
   "cell_type": "code",
   "execution_count": null,
   "metadata": {},
   "outputs": [],
   "source": [
    "b1.price"
   ]
  },
  {
   "cell_type": "code",
   "execution_count": null,
   "metadata": {},
   "outputs": [],
   "source": [
    "b2.price"
   ]
  },
  {
   "cell_type": "code",
   "execution_count": null,
   "metadata": {},
   "outputs": [],
   "source": [
    "b3.price"
   ]
  },
  {
   "cell_type": "code",
   "execution_count": null,
   "metadata": {},
   "outputs": [],
   "source": [
    "b1.author"
   ]
  },
  {
   "cell_type": "code",
   "execution_count": null,
   "metadata": {},
   "outputs": [],
   "source": [
    "b2.author"
   ]
  },
  {
   "cell_type": "code",
   "execution_count": null,
   "metadata": {},
   "outputs": [],
   "source": [
    "b1.nice_author_name()"
   ]
  },
  {
   "cell_type": "code",
   "execution_count": null,
   "metadata": {},
   "outputs": [],
   "source": [
    "b2.nice_author_name()"
   ]
  },
  {
   "cell_type": "code",
   "execution_count": null,
   "metadata": {},
   "outputs": [],
   "source": [
    "b1.price_with_tax()"
   ]
  },
  {
   "cell_type": "code",
   "execution_count": null,
   "metadata": {},
   "outputs": [],
   "source": [
    "b2.price_with_tax()\n"
   ]
  },
  {
   "cell_type": "code",
   "execution_count": null,
   "metadata": {},
   "outputs": [],
   "source": [
    "b3.price_with_tax()"
   ]
  },
  {
   "cell_type": "code",
   "execution_count": null,
   "metadata": {},
   "outputs": [],
   "source": [
    "# has-a relationship -- composition\n",
    "# Bookshelf has-a book\n",
    "\n",
    "class Bookshelf(object):\n",
    "    def __init__(self):\n",
    "        self.books = [ ]\n",
    "        \n",
    "    def add_books(self, *args):\n",
    "        self.books += args\n",
    "        \n",
    "    def total_price(self):\n",
    "        return sum([one_book.price\n",
    "                for one_book in shelf.books])        \n",
    "        \n",
    "shelf = Bookshelf()\n",
    "shelf.add_books(b1, b2)\n",
    "shelf.add_books(b3)"
   ]
  },
  {
   "cell_type": "code",
   "execution_count": null,
   "metadata": {},
   "outputs": [],
   "source": [
    "shelf.books"
   ]
  },
  {
   "cell_type": "code",
   "execution_count": null,
   "metadata": {},
   "outputs": [],
   "source": [
    "shelf.books[0].title"
   ]
  },
  {
   "cell_type": "code",
   "execution_count": null,
   "metadata": {},
   "outputs": [],
   "source": [
    "shelf.total_price()"
   ]
  },
  {
   "cell_type": "code",
   "execution_count": null,
   "metadata": {},
   "outputs": [],
   "source": [
    "# (1) Create a Bowl class.  We can put scoops in the bowl!\n",
    "\n",
    "class Scoop(object):\n",
    "    def __init__(self, flavor):\n",
    "        self.flavor = flavor\n",
    "        \n",
    "s1 = Scoop('chocolate')\n",
    "s2 = Scoop('vanilla')\n",
    "s3 = Scoop('coffee')\n",
    "\n",
    "class Bowl(object):\n",
    "    def __init__(self):\n",
    "        self.scoops = [ ]\n",
    "        \n",
    "    def add_scoops(self, *new_scoops):\n",
    "        self.scoops += new_scoops\n",
    "        \n",
    "    def flavors(self):\n",
    "        return ', '.join([one_scoop.flavor\n",
    "                          for one_scoop in self.scoops])\n",
    "\n",
    "b = Bowl()\n",
    "b.add_scoops(s1, s2)\n",
    "b.add_scoops(s3)\n",
    "b.flavors()  # returns a string of \"chocolate, vanilla, coffee\"\n"
   ]
  },
  {
   "cell_type": "code",
   "execution_count": null,
   "metadata": {},
   "outputs": [],
   "source": [
    "b.scoops"
   ]
  },
  {
   "cell_type": "code",
   "execution_count": null,
   "metadata": {},
   "outputs": [],
   "source": [
    "class Person(object):\n",
    "    def __init__(self, name):\n",
    "        self.name = name\n",
    "        self.accounts = [ ]\n",
    "        \n",
    "    def add_account(self, new_account):\n",
    "        self.accounts.append(new_account)\n",
    "        \n",
    "    def all_balances(self):\n",
    "        return [sum(one_account.transactions)\n",
    "               for one_account in self.accounts]\n",
    "    \n",
    "    def current_total_balance(self):\n",
    "        return sum([sum(one_account.transactions)\n",
    "               for one_account in self.accounts])\n",
    "    \n",
    "    def average_transaction_amount(self):\n",
    "        all_transactions = [one_transaction\n",
    "                           for one_account in self.accounts\n",
    "                           for one_transaction in one_account.transactions]\n",
    "        \n",
    "        print(all_transactions)\n",
    "        \n",
    "        return sum(all_transactions) / len(all_transactions)\n",
    "\n",
    "\n",
    "\n",
    "class BankAccount(object):\n",
    "    def __init__(self):\n",
    "        self.transactions = [ ]\n",
    "        \n",
    "# (2) Use our existing Person and BankAccount classes.  Make it possible\n",
    "#     for a person to have one or more bank accounts.  So we can say:\n",
    "\n",
    "p1 = Person('Person1')\n",
    "\n",
    "ba1 = BankAccount()\n",
    "ba1.transactions.append(100)\n",
    "ba1.transactions.append(200)\n",
    "ba1.transactions.append(-50)\n",
    "ba1.transactions.append(500)\n",
    "\n",
    "ba2 = BankAccount()\n",
    "ba2.transactions.append(1000)\n",
    "ba2.transactions.append(2000)\n",
    "ba2.transactions.append(-500)\n",
    "ba2.transactions.append(5000)\n",
    "\n",
    "p1.add_account(ba1)\n",
    "p1.add_account(ba2)\n",
    "\n",
    "print(p1.accounts)"
   ]
  },
  {
   "cell_type": "code",
   "execution_count": null,
   "metadata": {},
   "outputs": [],
   "source": [
    "p1.all_balances()           # returns a list of floats representing balances"
   ]
  },
  {
   "cell_type": "code",
   "execution_count": null,
   "metadata": {},
   "outputs": [],
   "source": [
    "p1.current_total_balance()  # gives the total balance across all accounts"
   ]
  },
  {
   "cell_type": "code",
   "execution_count": null,
   "metadata": {},
   "outputs": [],
   "source": [
    "p1.average_transaction_amount()  # returns the average amount of transactions across all accounts"
   ]
  },
  {
   "cell_type": "code",
   "execution_count": null,
   "metadata": {},
   "outputs": [],
   "source": [
    "len([100, 200, -50, 500, 1000, 2000, -500, 5000])"
   ]
  },
  {
   "cell_type": "code",
   "execution_count": null,
   "metadata": {},
   "outputs": [],
   "source": [
    "sum([100, 200, -50, 500, 1000, 2000, -500, 5000])"
   ]
  },
  {
   "cell_type": "code",
   "execution_count": null,
   "metadata": {},
   "outputs": [],
   "source": [
    "# (3) Create a ShoppingCart class.\n",
    "\n",
    "class ShoppingCart(object):\n",
    "    def __init__(self):\n",
    "        self.items = { }\n",
    "        \n",
    "    def add(self, name, price, new_quantity):\n",
    "        if name in self.items:\n",
    "            price, previous_quantity = self.items[name]\n",
    "            self.items[name] = (price, previous_quantity + new_quantity)\n",
    "        else:\n",
    "            self.items[name] = (price, new_quantity)\n",
    "            \n",
    "    def remove(self, name):\n",
    "        if name in self.items:\n",
    "            price, quantity = self.items[name]\n",
    "            if quantity == 1:\n",
    "                del(self.items[name])\n",
    "            else:\n",
    "                self.items[name] = (price, quantity-1)\n",
    "        \n",
    "    def total(self):\n",
    "        return sum([price * quantity\n",
    "                   for price, quantity in self.items.values()])\n",
    "        \n",
    "sc = ShoppingCart()\n",
    "sc.add('book', 30, 1)    # name, price-per-unit, quantity\n",
    "sc.add('toothbrush', 4, 3)\n",
    "sc.add('toothbrush', 4, 1)\n",
    "\n",
    "\n",
    "sc.remove('toothbrush')   # removes one toothbrush -- or removes\n",
    "                          # the item altogether if the quantity is 0\n",
    "\n",
    "sc.total()  # returns the total price of items in the shopping cart\n"
   ]
  },
  {
   "cell_type": "code",
   "execution_count": null,
   "metadata": {},
   "outputs": [],
   "source": [
    "sc.items"
   ]
  },
  {
   "cell_type": "code",
   "execution_count": null,
   "metadata": {},
   "outputs": [],
   "source": [
    "print('A')\n",
    "class Person(object):\n",
    "    print('B')\n",
    "    def __init__(self, name):\n",
    "        print('C')       \n",
    "        self.name = name\n",
    "        \n",
    "    print('D')\n",
    "\n",
    "    def greet(self):\n",
    "        return f\"Hello, {self.name}\"\n",
    "print('E')\n",
    "\n",
    "print(dir(Person))\n",
    "\n",
    "p1 = Person('name1')\n",
    "p2 = Person('name2')\n",
    "\n",
    "print(p1.greet())\n",
    "print(p2.greet())"
   ]
  },
  {
   "cell_type": "code",
   "execution_count": null,
   "metadata": {},
   "outputs": [],
   "source": [
    "class Person(object):\n",
    "    population = 0  # this defines Person.population = 0 -- class attribute\n",
    "    \n",
    "    def __init__(self, name):\n",
    "        self.population += 1\n",
    "        self.name = name\n",
    "        \n",
    "\n",
    "print(f\"Before, population = {Person.population}\")\n",
    "p1 = Person('name1')\n",
    "p2 = Person('name2')\n",
    "print(f\"After, population = {Person.population}\")\n",
    "print(f\"After, p1.population = {p1.population}\")\n",
    "print(f\"After, p2.population = {p2.population}\")\n",
    "\n",
    "\n"
   ]
  },
  {
   "cell_type": "code",
   "execution_count": null,
   "metadata": {},
   "outputs": [],
   "source": [
    "# If I ask for a.b:\n",
    "# (1) looks for \"b\" attribute on \"a\"\n",
    "# (2) looks for \"b\" attribute on type(a)\n",
    "# (3) looks for \"b\" attribute on object\n"
   ]
  },
  {
   "cell_type": "code",
   "execution_count": null,
   "metadata": {},
   "outputs": [],
   "source": [
    "# (1) Create a Bowl class.  We can put scoops in the bowl!\n",
    "\n",
    "class Scoop(object):\n",
    "    def __init__(self, flavor):\n",
    "        self.flavor = flavor\n",
    "        \n",
    "s1 = Scoop('chocolate')\n",
    "s2 = Scoop('vanilla')\n",
    "s3 = Scoop('coffee')\n",
    "s4 = Scoop('flavor 4')\n",
    "s5 = Scoop('flavor 5')\n",
    "s6 = Scoop('flavor 6')\n",
    "\n",
    "class Bowl(object):\n",
    "    max_scoops = 3 # class attribute!\n",
    "    \n",
    "    def __init__(self):\n",
    "        self.scoops = [ ]\n",
    "        \n",
    "    def add_scoops(self, *new_scoops):\n",
    "        self.scoops += new_scoops[:Bowl.max_scoops-len(self.scoops)]\n",
    "        \n",
    "    def flavors(self):\n",
    "        return ', '.join([one_scoop.flavor\n",
    "                          for one_scoop in self.scoops])\n",
    "\n",
    "b = Bowl()\n",
    "b.add_scoops(s1, s2)\n",
    "b.add_scoops(s3, s4, s5, s6)\n",
    "b.flavors()  # returns a string of \"chocolate, vanilla, coffee\"\n"
   ]
  },
  {
   "cell_type": "code",
   "execution_count": null,
   "metadata": {},
   "outputs": [],
   "source": [
    "# (1) Modify the Bowl class, such that adding a new scoop to the bowl\n",
    "#     will only work if you have fewer than 3 scoops.  In other words: max 3\n",
    "#     scoops per bowl.\n",
    "\n",
    "#     Adding a new scoop to a bowl that is already full will be silently\n",
    "#     ignored.\n"
   ]
  },
  {
   "cell_type": "code",
   "execution_count": null,
   "metadata": {},
   "outputs": [],
   "source": [
    "\n",
    "# (2) Create a Loan class. Each time someone creates a new Loan, it's\n",
    "#     for a certain amount of money.  That money is taken from the\n",
    "#     bank's available assets.\n",
    "\n",
    "#     l1 = Loan(500)\n",
    "#     l2 = Loan(200)\n",
    "#     l3 = Loan(700)  # raises an exception -- ValueError to indicate no money\n",
    "#     l1.repay(500)\n",
    "#     l3 = Loan(700)  # now it'll work, because the bank has sufficient funds\n",
    "\n",
    "\n",
    "class Loan(object):\n",
    "    bank_assets = 1000\n",
    "    \n",
    "    def __init__(self, amount):\n",
    "        if Loan.bank_assets >= amount:\n",
    "            self.amount_owed = amount\n",
    "            Loan.bank_assets -= amount\n",
    "        else:\n",
    "            raise ValueError(\"Bank doesn't have enough\")\n",
    "        \n",
    "    def repay(self, repayment_amount):\n",
    "        self.amount_owed -= repayment_amount\n",
    "        Loan.bank_assets += repayment_amount\n",
    "        \n",
    "l1 = Loan(500)\n",
    "l1.amount_owed"
   ]
  },
  {
   "cell_type": "code",
   "execution_count": null,
   "metadata": {},
   "outputs": [],
   "source": [
    "Loan.bank_assets"
   ]
  },
  {
   "cell_type": "code",
   "execution_count": null,
   "metadata": {},
   "outputs": [],
   "source": [
    "l2 = Loan(200)\n",
    "l2.amount_owed"
   ]
  },
  {
   "cell_type": "code",
   "execution_count": null,
   "metadata": {},
   "outputs": [],
   "source": [
    "Loan.bank_assets"
   ]
  },
  {
   "cell_type": "code",
   "execution_count": null,
   "metadata": {},
   "outputs": [],
   "source": [
    "l1.repay(500)\n",
    "l1.amount_owed"
   ]
  },
  {
   "cell_type": "code",
   "execution_count": null,
   "metadata": {},
   "outputs": [],
   "source": [
    "Loan.bank_assets"
   ]
  },
  {
   "cell_type": "code",
   "execution_count": null,
   "metadata": {},
   "outputs": [],
   "source": [
    "class Person(object):\n",
    "    def __init__(self, name):\n",
    "        self.name = name\n",
    "        \n",
    "    def greet(self):\n",
    "        return f\"Hello, {self.name}\"\n",
    "    \n",
    "p1 = Person('name1')\n",
    "p2 = Person('name2')\n",
    "\n",
    "print(p1.greet())\n",
    "print(p2.greet())\n",
    "        \n",
    "        "
   ]
  },
  {
   "cell_type": "code",
   "execution_count": null,
   "metadata": {},
   "outputs": [],
   "source": [
    "class Employee(Person):\n",
    "    def __init__(self, name, employee_id):\n",
    "        super().__init__(name)\n",
    "        self.employee_id = employee_id\n",
    "            \n",
    "e1 = Employee('emp1', 1)\n",
    "e2 = Employee('emp2', 2)\n",
    "\n",
    "print(e1.greet())\n",
    "print(e2.greet())\n",
    "        \n",
    "# a.b  #        \n",
    "\n",
    "# (1) does \"b\" exist as an attribute on a?\n",
    "# (2) does \"b\" exist as an attribute on a's class?\n",
    "# (3) does \"b\" exist as an attribute on a's parent class?\n",
    "# repeat this until we get to a class whose parent is \"object\"\n",
    "# (4) does \"b\" exist as an attribute on object?"
   ]
  },
  {
   "cell_type": "code",
   "execution_count": null,
   "metadata": {},
   "outputs": [],
   "source": [
    "# (1) Take our existing Person class, and add a subclass, called\n",
    "#     VerbosePerson.  This class works the same way as Person, except that\n",
    "#     the \"greet\" method doesn't just return \"Hello, NAME\" but rather\n",
    "#     something longer than that.\n",
    "\n",
    "class Person(object):\n",
    "    def __init__(self, name):\n",
    "        self.name = name\n",
    "        \n",
    "    def greet(self):\n",
    "        return f\"Hello, {self.name}\"\n",
    "    \n",
    "p1 = Person('name1')\n",
    "p1.greet()"
   ]
  },
  {
   "cell_type": "code",
   "execution_count": null,
   "metadata": {},
   "outputs": [],
   "source": [
    "class VerbosePerson(Person):\n",
    "    def greet(self):\n",
    "        return f\"Hello, {self.name}.  How are you?  Have you seen pictures of my children lately?  They're so lovely!\"\n",
    "    \n",
    "    def answer_question(self, text):\n",
    "        return f\"You're asking me {text}?  I can answer you at great length!\"\n",
    "\n",
    "p2 = VerbosePerson('name2')\n",
    "print(p2.greet())\n",
    "print(p2.answer_question('Why is the sky blue?'))"
   ]
  },
  {
   "cell_type": "code",
   "execution_count": null,
   "metadata": {},
   "outputs": [],
   "source": [
    "# (3) Create a ShoppingCart class.\n",
    "\n",
    "class ShoppingCart(object):\n",
    "    def __init__(self):\n",
    "        self.items = { }\n",
    "        \n",
    "    def add(self, name, price, new_quantity):\n",
    "        if name in self.items:\n",
    "            price, previous_quantity = self.items[name]\n",
    "            self.items[name] = (price, previous_quantity + new_quantity)\n",
    "        else:\n",
    "            self.items[name] = (price, new_quantity)\n",
    "            \n",
    "    def remove(self, name):\n",
    "        if name in self.items:\n",
    "            price, quantity = self.items[name]\n",
    "            if quantity == 1:\n",
    "                del(self.items[name])\n",
    "            else:\n",
    "                self.items[name] = (price, quantity-1)\n",
    "        \n",
    "    def total(self):\n",
    "        return sum([price * quantity\n",
    "                   for price, quantity in self.items.values()])\n",
    "        \n",
    "\n",
    "class OnlineShoppingCart(ShoppingCart):\n",
    "    def total(self):\n",
    "        return (1.05 * super().total()) + 10\n",
    "    \n",
    "sc = OnlineShoppingCart()\n",
    "sc.add('book', 30, 1)    # name, price-per-unit, quantity\n",
    "sc.add('toothbrush', 4, 3)\n",
    "sc.add('toothbrush', 4, 1)\n",
    "\n",
    "sc.remove('toothbrush')   # removes one toothbrush -- or removes\n",
    "                          # the item altogether if the quantity is 0\n",
    "\n",
    "sc.total()  # returns the total price of items in the shopping cart\n"
   ]
  },
  {
   "cell_type": "code",
   "execution_count": null,
   "metadata": {},
   "outputs": [],
   "source": [
    "# (1) Create a Bowl class.  We can put scoops in the bowl!\n",
    "\n",
    "class Scoop(object):\n",
    "    def __init__(self, flavor):\n",
    "        self.flavor = flavor\n",
    "        \n",
    "s1 = Scoop('chocolate')\n",
    "s2 = Scoop('vanilla')\n",
    "s3 = Scoop('coffee')\n",
    "s4 = Scoop('flavor 4')\n",
    "s5 = Scoop('flavor 5')\n",
    "s6 = Scoop('flavor 6')\n",
    "\n",
    "class Bowl(object):\n",
    "    max_scoops = 3 # class attribute!\n",
    "    \n",
    "    def __init__(self):\n",
    "        self.scoops = [ ]\n",
    "        \n",
    "    def add_scoops(self, *new_scoops):\n",
    "        self.scoops += new_scoops[:self.max_scoops-len(self.scoops)]\n",
    "        \n",
    "    def flavors(self):\n",
    "        return ', '.join([one_scoop.flavor\n",
    "                          for one_scoop in self.scoops])\n",
    "\n",
    "b = Bowl()\n",
    "b.add_scoops(s1, s2)\n",
    "b.add_scoops(s3, s4, s5, s6)\n",
    "b.flavors()  # returns a string of \"chocolate, vanilla, coffee\"\n"
   ]
  },
  {
   "cell_type": "code",
   "execution_count": null,
   "metadata": {},
   "outputs": [],
   "source": [
    "class BigBowl(Bowl):\n",
    "    max_scoops = 5 # class attribute!\n",
    "            \n",
    "    \n",
    "bb = BigBowl()\n",
    "bb.add_scoops(s1, s2)\n",
    "bb.add_scoops(s3, s4, s5, s6)\n",
    "bb.flavors()  # should give me 5 flavors, because it's a big bowl!\n"
   ]
  },
  {
   "cell_type": "code",
   "execution_count": null,
   "metadata": {},
   "outputs": [],
   "source": [
    "class Course(object):\n",
    "    def __init__(self, title, teacher):\n",
    "        self.title = title\n",
    "        self.teacher = teacher\n",
    "        self.meetings = [ ]\n",
    "        self.students = [ ]\n",
    "        \n",
    "    def add_meeting(self, new_meeting):\n",
    "        self.meetings.append(new_meeting)\n",
    "        \n",
    "    def add_student(self, new_student):\n",
    "        self.students.append(new_student)\n",
    "        \n",
    "    def all_meetings(self):\n",
    "        return 'Meeting at: \\n' + '\\n'.join(['\\t' + one_meeting\n",
    "                                for one_meeting in self.meetings])\n",
    "        \n",
    "c1 = Course('Python', 'Reuven')\n",
    "c1.add_meeting('2018-May-10 10:00')\n",
    "c1.add_meeting('2018-May-12 10:00')\n",
    "\n",
    "c1.add_student('Joe')\n",
    "c1.add_student('Mary')\n",
    "\n",
    "\n",
    "print(c1.all_meetings())\n",
    "                             \n",
    "                             \n",
    "        \n",
    "    "
   ]
  },
  {
   "cell_type": "code",
   "execution_count": null,
   "metadata": {},
   "outputs": [],
   "source": [
    "class OnlineCourse(Course):\n",
    "    def __init__(self, title, teacher, url):\n",
    "        super().__init__(title, teacher)\n",
    "        self.url = url\n",
    "        \n",
    "    def get_username(self, student):\n",
    "        return student.lower()\n",
    "    \n",
    "    def all_usernames(self):\n",
    "        return {one_student : self.get_username(one_student)\n",
    "               for one_student in self.students}\n",
    "        \n",
    "c2 = OnlineCourse('Online Python', 'Reuven', 'http://lerner.co.il/')\n",
    "c2.add_meeting('2018-May-10 10:00')\n",
    "c2.add_meeting('2018-May-12 10:00')\n",
    "\n",
    "c2.add_student('Joe')\n",
    "c2.add_student('Mary')\n",
    "\n",
    "print(c2.all_usernames())"
   ]
  },
  {
   "cell_type": "code",
   "execution_count": null,
   "metadata": {},
   "outputs": [],
   "source": [
    "# OnlineCourse is-a Course  : OnlineCourse inherits from Course\n",
    "\n",
    "OnlineCourse.__bases__ "
   ]
  },
  {
   "cell_type": "code",
   "execution_count": null,
   "metadata": {},
   "outputs": [],
   "source": [
    "print(c2.all_meetings()) "
   ]
  },
  {
   "cell_type": "code",
   "execution_count": null,
   "metadata": {},
   "outputs": [],
   "source": [
    "Course.__bases__"
   ]
  },
  {
   "cell_type": "code",
   "execution_count": null,
   "metadata": {},
   "outputs": [],
   "source": [
    "object.__bases__"
   ]
  },
  {
   "cell_type": "code",
   "execution_count": null,
   "metadata": {},
   "outputs": [],
   "source": [
    "s = 'abcd'\n",
    "len(s)"
   ]
  },
  {
   "cell_type": "code",
   "execution_count": null,
   "metadata": {},
   "outputs": [],
   "source": [
    "mylist = [10, 20, 30]\n",
    "len(mylist)"
   ]
  },
  {
   "cell_type": "code",
   "execution_count": null,
   "metadata": {},
   "outputs": [],
   "source": [
    "d = {'a':1, 'b':2, 'c':3}\n",
    "len(d)"
   ]
  },
  {
   "cell_type": "code",
   "execution_count": null,
   "metadata": {},
   "outputs": [],
   "source": [
    "class Foo(object):\n",
    "    def __init__(self, x):\n",
    "        self.x = x\n",
    "        \n",
    "f = Foo('abcd')\n",
    "len(f)"
   ]
  },
  {
   "cell_type": "code",
   "execution_count": null,
   "metadata": {},
   "outputs": [],
   "source": [
    "# magic method __whatever__  \n",
    "\n",
    "class Foo(object):\n",
    "    def __init__(self, x):\n",
    "        self.x = x\n",
    "        \n",
    "    def __len__(self):\n",
    "        return len(self.x)\n",
    "        \n",
    "f = Foo('abcd')\n",
    "len(f)"
   ]
  },
  {
   "cell_type": "code",
   "execution_count": null,
   "metadata": {},
   "outputs": [],
   "source": [
    "f.__len__()"
   ]
  },
  {
   "cell_type": "code",
   "execution_count": null,
   "metadata": {},
   "outputs": [],
   "source": [
    "class Foo(object):\n",
    "    def __init__(self, x):\n",
    "        self.x = x\n",
    "        \n",
    "    def __len__(self):\n",
    "        return 1.5\n",
    "        \n",
    "f = Foo('abcd')\n",
    "len(f)"
   ]
  },
  {
   "cell_type": "code",
   "execution_count": null,
   "metadata": {},
   "outputs": [],
   "source": [
    "class Foo(object):\n",
    "    def __init__(self, x):\n",
    "        self.x = x\n",
    "        \n",
    "    def __len__(self):\n",
    "        return len(self.x)\n",
    "        \n",
    "f = Foo('abcd')\n",
    "len(f)"
   ]
  },
  {
   "cell_type": "code",
   "execution_count": null,
   "metadata": {},
   "outputs": [],
   "source": [
    "print(f)"
   ]
  },
  {
   "cell_type": "code",
   "execution_count": null,
   "metadata": {},
   "outputs": [],
   "source": [
    "str(f) "
   ]
  },
  {
   "cell_type": "code",
   "execution_count": null,
   "metadata": {},
   "outputs": [],
   "source": [
    "# __str__"
   ]
  },
  {
   "cell_type": "code",
   "execution_count": null,
   "metadata": {},
   "outputs": [],
   "source": [
    "class Foo(object):\n",
    "    def __init__(self, x):\n",
    "        self.x = x\n",
    "        \n",
    "    def __len__(self):\n",
    "        return len(self.x)\n",
    "    \n",
    "    def __str__(self):\n",
    "        return f\"I'm a Foo, with vars = {vars(self)}\"\n",
    "        \n",
    "f = Foo('abcd')\n",
    "print(f)  # str(f)  -> f.__str__()   "
   ]
  },
  {
   "cell_type": "code",
   "execution_count": null,
   "metadata": {},
   "outputs": [],
   "source": [
    "f\"f = {f}\"  "
   ]
  },
  {
   "cell_type": "code",
   "execution_count": null,
   "metadata": {},
   "outputs": [],
   "source": [
    "f"
   ]
  },
  {
   "cell_type": "code",
   "execution_count": null,
   "metadata": {},
   "outputs": [],
   "source": [
    "# __str__ -- the string version of an object, for common usage\n",
    "# __repr__ -- the string version of an object, for developers\n",
    "\n",
    "class Foo(object):\n",
    "    def __init__(self, x):\n",
    "        self.x = x\n",
    "        \n",
    "    def __len__(self):\n",
    "        return len(self.x)\n",
    "    \n",
    "    def __str__(self):\n",
    "        return f\"[str] I'm a Foo, with vars = {vars(self)}\"\n",
    "        \n",
    "    def __repr__(self):\n",
    "        return f\"[repr] I'm a Foo, with vars = {vars(self)}\"\n",
    "\n",
    "f = Foo('abcd')"
   ]
  },
  {
   "cell_type": "code",
   "execution_count": null,
   "metadata": {},
   "outputs": [],
   "source": [
    "print(f)"
   ]
  },
  {
   "cell_type": "code",
   "execution_count": null,
   "metadata": {},
   "outputs": [],
   "source": [
    "str(f)"
   ]
  },
  {
   "cell_type": "code",
   "execution_count": null,
   "metadata": {},
   "outputs": [],
   "source": [
    "f\"f = {f}\""
   ]
  },
  {
   "cell_type": "code",
   "execution_count": null,
   "metadata": {},
   "outputs": [],
   "source": [
    "mylist = [f]\n",
    "mylist"
   ]
  },
  {
   "cell_type": "code",
   "execution_count": null,
   "metadata": {},
   "outputs": [],
   "source": [
    "f"
   ]
  },
  {
   "cell_type": "code",
   "execution_count": null,
   "metadata": {},
   "outputs": [],
   "source": [
    "# __str__ -- the string version of an object, for common usage\n",
    "# __repr__ -- the string version of an object, for developers\n",
    "\n",
    "class Foo(object):\n",
    "    def __init__(self, x):\n",
    "        self.x = x\n",
    "        \n",
    "    def __len__(self):\n",
    "        return len(self.x)\n",
    "    \n",
    "    def __repr__(self):\n",
    "        return f\"[repr] I'm a Foo, with vars = {vars(self)}\"\n",
    "\n",
    "f = Foo('abcd')"
   ]
  },
  {
   "cell_type": "code",
   "execution_count": null,
   "metadata": {},
   "outputs": [],
   "source": [
    "print(f)"
   ]
  },
  {
   "cell_type": "code",
   "execution_count": null,
   "metadata": {},
   "outputs": [],
   "source": [
    "str(f)"
   ]
  },
  {
   "cell_type": "code",
   "execution_count": null,
   "metadata": {},
   "outputs": [],
   "source": [
    "f\"f = {f}\""
   ]
  },
  {
   "cell_type": "code",
   "execution_count": null,
   "metadata": {},
   "outputs": [],
   "source": [
    "# (1) Make it possible to run len() on our Bowl/BigBowl objects.  This\n",
    "#     will report the number of scoops in a bowl.\n",
    "\n",
    "#     b = Bowl()\n",
    "#     b.add_scoops(s1, s2, s3)\n",
    "#     len(b)  # return 3\n",
    "\n",
    "# (1) Create a Bowl class.  We can put scoops in the bowl!\n",
    "\n",
    "class Scoop(object):\n",
    "    def __init__(self, flavor):\n",
    "        self.flavor = flavor\n",
    "        \n",
    "    def __repr__(self):\n",
    "        return f\"Scoop of {self.flavor}\"\n",
    "        \n",
    "s1 = Scoop('chocolate')\n",
    "s2 = Scoop('vanilla')\n",
    "s3 = Scoop('coffee')\n",
    "s4 = Scoop('flavor 4')\n",
    "s5 = Scoop('flavor 5')\n",
    "s6 = Scoop('flavor 6')\n",
    "\n",
    "class Bowl(object):\n",
    "    max_scoops = 3 # class attribute!\n",
    "    \n",
    "    def __init__(self):\n",
    "        self.scoops = [ ]\n",
    "        \n",
    "    def add_scoops(self, *new_scoops):\n",
    "        self.scoops += new_scoops[:self.max_scoops-len(self.scoops)]\n",
    "        \n",
    "    def flavors(self):\n",
    "        return ', '.join([one_scoop.flavor\n",
    "                          for one_scoop in self.scoops])\n",
    "    \n",
    "    def __len__(self):\n",
    "        return len(self.scoops)\n",
    "    \n",
    "    def __repr__(self):\n",
    "        output = 'Bowl with: \\n'\n",
    "        output += '\\n'.join([f\"\\t{index} {one_scoop}\"\n",
    "                            for index, one_scoop in enumerate(self.scoops, 1)])\n",
    "        return output\n",
    "\n",
    "b = Bowl()\n",
    "b.add_scoops(s1, s2)\n",
    "b.add_scoops(s3, s4, s5, s6)\n",
    "b.flavors()  # returns a string of \"chocolate, vanilla, coffee\"\n",
    "\n",
    "class BigBowl(Bowl):\n",
    "    max_scoops = 5 # class attribute!\n",
    "            \n",
    "    \n",
    "bb = BigBowl()\n",
    "bb.add_scoops(s1, s2)\n",
    "bb.add_scoops(s3, s4, s5, s6)\n",
    "bb.flavors()  # should give me 5 flavors, because it's a big bowl!\n"
   ]
  },
  {
   "cell_type": "code",
   "execution_count": null,
   "metadata": {
    "scrolled": true
   },
   "outputs": [],
   "source": [
    "print(b)"
   ]
  },
  {
   "cell_type": "code",
   "execution_count": null,
   "metadata": {},
   "outputs": [],
   "source": [
    "print(bb)"
   ]
  },
  {
   "cell_type": "code",
   "execution_count": null,
   "metadata": {},
   "outputs": [],
   "source": [
    "len(b)"
   ]
  },
  {
   "cell_type": "code",
   "execution_count": null,
   "metadata": {},
   "outputs": [],
   "source": [
    "len(bb)  # bb.__len__ "
   ]
  },
  {
   "cell_type": "code",
   "execution_count": null,
   "metadata": {},
   "outputs": [],
   "source": [
    "# (2) Make it possible to \"print\" our Scoop and Bowl.  If I say\n",
    "\n",
    "#     print(s1)\n",
    "\n",
    "#     it'll print\n",
    "\n",
    "#     Scoop of chocolate\n",
    "\n",
    "#     mylist = [s1, s2, s3]\n",
    "\n",
    "#     print(mylist)\n",
    "\n",
    "#      [Scoop of chocolate, Scoop of vanilla, Scoop of coffee]\n",
    "\n",
    "#     print(b)\n",
    "\n",
    "#     Bowl with:\n",
    "# \t1) Scoop of chocolate\n",
    "# \t2) Scoop of vanilla\n",
    "# \t2) Scoop of coffee\n",
    "\n",
    "print(s1)"
   ]
  },
  {
   "cell_type": "code",
   "execution_count": null,
   "metadata": {},
   "outputs": [],
   "source": [
    "print(b.scoops)"
   ]
  },
  {
   "cell_type": "code",
   "execution_count": null,
   "metadata": {},
   "outputs": [],
   "source": [
    "print(b)"
   ]
  },
  {
   "cell_type": "code",
   "execution_count": null,
   "metadata": {},
   "outputs": [],
   "source": [
    "# (3) Make len() and print() work on the Shopping Cart.  If I say\n",
    "#     len(sc), it'll return the number of items in the cart.\n",
    "\n",
    "#     print(sc)\n",
    "\n",
    "#     It'll show each item in the cart -- name, per-unit price,\n",
    "#     quantity, and total price for that item.  *PLUS* it'll show the\n",
    "#     total price of all items\n",
    "\n",
    "#     item1    2    $1    $2\n",
    "#     item2    6    $3    $18\n",
    "#     -----------------------\n",
    "#     Total               $20\n",
    "    \n",
    "\n",
    "# (3) Create a ShoppingCart class.\n",
    "\n",
    "class ShoppingCart(object):\n",
    "    def __init__(self):\n",
    "        self.items = { }\n",
    "        \n",
    "    def add(self, name, price, new_quantity):\n",
    "        if name in self.items:\n",
    "            price, previous_quantity = self.items[name]\n",
    "            self.items[name] = (price, previous_quantity + new_quantity)\n",
    "        else:\n",
    "            self.items[name] = (price, new_quantity)\n",
    "            \n",
    "    def remove(self, name):\n",
    "        if name in self.items:\n",
    "            price, quantity = self.items[name]\n",
    "            if quantity == 1:\n",
    "                del(self.items[name])\n",
    "            else:\n",
    "                self.items[name] = (price, quantity-1)\n",
    "        \n",
    "    def total(self):\n",
    "        return sum([price * quantity\n",
    "                   for price, quantity in self.items.values()])\n",
    "    \n",
    "    def __len__(self):\n",
    "        return sum([quantity\n",
    "                   for price, quantity in self.items.values()])\n",
    "    \n",
    "    def __repr__(self):\n",
    "        output = [ ]\n",
    "        for name, info in self.items.items():\n",
    "            price, quantity = info\n",
    "            output.append(f\"{name:10} {quantity:3}  ${price:3}  ${quantity*price:4}\")\n",
    "        output.append(f\"Total: {self.total():20}\")\n",
    "        return '\\n'.join(output)\n",
    "        \n",
    "sc = ShoppingCart()\n",
    "sc.add('book', 30, 1)    # name, price-per-unit, quantity\n",
    "sc.add('toothbrush', 4, 3)\n",
    "sc.add('toothbrush', 4, 1)\n",
    "\n",
    "\n",
    "sc.remove('toothbrush')   # removes one toothbrush -- or removes\n",
    "                          # the item altogether if the quantity is 0\n",
    "\n",
    "sc.total()  # returns the total price of items in the shopping cart\n"
   ]
  },
  {
   "cell_type": "code",
   "execution_count": null,
   "metadata": {},
   "outputs": [],
   "source": [
    "len(sc)"
   ]
  },
  {
   "cell_type": "code",
   "execution_count": null,
   "metadata": {},
   "outputs": [],
   "source": [
    "print(sc)"
   ]
  },
  {
   "cell_type": "code",
   "execution_count": null,
   "metadata": {},
   "outputs": [],
   "source": [
    "2 + 2"
   ]
  },
  {
   "cell_type": "code",
   "execution_count": null,
   "metadata": {},
   "outputs": [],
   "source": [
    "int.__add__(2,2)"
   ]
  },
  {
   "cell_type": "code",
   "execution_count": null,
   "metadata": {},
   "outputs": [],
   "source": [
    "str.__add__('abc', 'def')"
   ]
  },
  {
   "cell_type": "code",
   "execution_count": null,
   "metadata": {},
   "outputs": [],
   "source": [
    "name = 'Reuven'\n",
    "'Hello, %s' % name"
   ]
  },
  {
   "cell_type": "code",
   "execution_count": null,
   "metadata": {},
   "outputs": [],
   "source": [
    "'Hello, %s'.__mod__(name)"
   ]
  },
  {
   "cell_type": "code",
   "execution_count": null,
   "metadata": {},
   "outputs": [],
   "source": [
    "class Foo(object):\n",
    "    def __init__(self, x):\n",
    "        self.x = x\n",
    "        \n",
    "    def __getitem__(self, index):\n",
    "        return self.x[index]\n",
    "\n",
    "f = Foo('abcde')\n",
    "f.x"
   ]
  },
  {
   "cell_type": "code",
   "execution_count": null,
   "metadata": {},
   "outputs": [],
   "source": [
    "f[3]  #  f.__getitem__(3) .... f.x[3]"
   ]
  },
  {
   "cell_type": "code",
   "execution_count": null,
   "metadata": {},
   "outputs": [],
   "source": [
    "x =5\n",
    "x[3]"
   ]
  },
  {
   "cell_type": "code",
   "execution_count": null,
   "metadata": {},
   "outputs": [],
   "source": [
    "class Animal(object):\n",
    "    def __init__(self, color):\n",
    "        self.color = color\n",
    "        self.species = self.__class__.__name__\n",
    "    def __repr__(self):\n",
    "        return f\"{self.color} {self.species}, {self.number_of_legs} legs\"\n",
    "\n",
    "class Wolf(Animal):\n",
    "    def __init__(self, color):\n",
    "        super().__init__(color)\n",
    "        self.number_of_legs = 4\n",
    "        \n",
    "class Sheep(Animal):\n",
    "    def __init__(self, color):\n",
    "        super().__init__(color)\n",
    "        self.number_of_legs = 4\n",
    "\n",
    "class Snake(Animal):\n",
    "    def __init__(self, color):\n",
    "        super().__init__(color)\n",
    "        self.number_of_legs = 0\n",
    "\n",
    "class Parrot(Animal):\n",
    "    def __init__(self, color):\n",
    "        super().__init__(color)\n",
    "        self.number_of_legs = 2\n",
    "        \n",
    "wolf = Wolf('black')            # species, color, # legs\n",
    "sheep1 = Sheep('white')\n",
    "sheep2 = Sheep('white')         \n",
    "snake = Snake('brown')\n",
    "parrot = Parrot('black')\n",
    "\n",
    "print(wolf)    #  black wolf, 4 legs   # str(wolf) -> wolf.__str__ \n",
    "print(sheep1)    #  white sheep, 4 legs\n",
    "print(sheep2)    #  white sheep, 4 legs\n",
    "print(snake)    #   brown snake, 0 legs\n",
    "print(parrot)    #  black parrot, 2 legs\n",
    "\n",
    "class Cage(object):\n",
    "    def __init__(self, id_number):\n",
    "        self.id_number = id_number\n",
    "        self.animals = [ ]\n",
    "    def add_animals(self, *new_animals):\n",
    "        self.animals += new_animals\n",
    "    def __repr__(self):\n",
    "        output = f'Cage {self.id_number}\\n'\n",
    "        output += '\\n'.join([f'\\t{index} {one_animal}'\n",
    "                            for index, one_animal in enumerate(self.animals, 1)]) \n",
    "        return output\n",
    "    def animals_by_color(self, color):\n",
    "        return '\\n'.join([str(one_animal)\n",
    "                         for one_animal in self.animals\n",
    "                         if one_animal.color == color])\n",
    "\n",
    "c1 = Cage(1)   # ID numbers\n",
    "c1.add_animals(wolf, sheep1, sheep2)\n",
    "print(c1)\n",
    "\n",
    "c2 = Cage(2)\n",
    "c2.add_animals(snake, parrot)\n",
    "print(c2)\n",
    "\n",
    "class Zoo(object):\n",
    "    def __init__(self):\n",
    "        self.cages = [ ]\n",
    "    def add_cages(self, *new_cages):\n",
    "        self.cages += new_cages\n",
    "    def __repr__(self):\n",
    "        return '\\n'.join([str(one_cage)\n",
    "                         for one_cage in self.cages])\n",
    "    def animals_by_color(self, color):\n",
    "        return '\\n'.join([one_cage.animals_by_color(color)\n",
    "                         for one_cage in self.cages]) \n",
    "    \n",
    "    def animals_by_color2(self, color):\n",
    "        return '\\n'.join([str(one_animal)\n",
    "                         for one_cage in self.cages\n",
    "                         for one_animal in one_cage.animals\n",
    "                         if one_animal.color == color])\n",
    "    \n",
    "    def number_of_legs(self):\n",
    "        return sum([one_animal.number_of_legs\n",
    "                   for one_cage in self.cages\n",
    "                   for one_animal in one_cage.animals])\n",
    "    \n",
    "        \n",
    "\n",
    "z = Zoo()\n",
    "z.add_cages(c1, c2)\n",
    "print(z)\n",
    "\n",
    "print(z.animals_by_color2('black')) \n",
    "print(z.number_of_legs())\n"
   ]
  },
  {
   "cell_type": "code",
   "execution_count": null,
   "metadata": {},
   "outputs": [],
   "source": []
  }
 ],
 "metadata": {
  "kernelspec": {
   "display_name": "Python 3",
   "language": "python",
   "name": "python3"
  },
  "language_info": {
   "codemirror_mode": {
    "name": "ipython",
    "version": 3
   },
   "file_extension": ".py",
   "mimetype": "text/x-python",
   "name": "python",
   "nbconvert_exporter": "python",
   "pygments_lexer": "ipython3",
   "version": "3.11.1"
  },
  "vscode": {
   "interpreter": {
    "hash": "9ae7e9d152eb7c30934d53a2576317084c2f0f0c16f4854fbee07e85bab3cf03"
   }
  }
 },
 "nbformat": 4,
 "nbformat_minor": 2
}
